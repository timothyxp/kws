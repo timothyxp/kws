{
 "cells": [
  {
   "cell_type": "markdown",
   "metadata": {
    "cellId": "c4171a9f-1054-46a8-93a6-048b883d4d89",
    "id": "_lhrn5O-qUYZ"
   },
   "source": [
    "# Import and misc"
   ]
  },
  {
   "cell_type": "code",
   "execution_count": 67,
   "metadata": {
    "collapsed": true,
    "jupyter": {
     "outputs_hidden": true
    },
    "tags": []
   },
   "outputs": [
    {
     "name": "stdout",
     "output_type": "stream",
     "text": [
      "Requirement already satisfied: wandb in /opt/conda/lib/python3.7/site-packages (0.12.7)\n",
      "Requirement already satisfied: requests<3,>=2.0.0 in /opt/conda/lib/python3.7/site-packages (from wandb) (2.25.1)\n",
      "Requirement already satisfied: Click!=8.0.0,>=7.0 in /opt/conda/lib/python3.7/site-packages (from wandb) (8.0.3)\n",
      "Requirement already satisfied: GitPython>=1.0.0 in /opt/conda/lib/python3.7/site-packages (from wandb) (3.1.24)\n",
      "Requirement already satisfied: promise<3,>=2.0 in /opt/conda/lib/python3.7/site-packages (from wandb) (2.3)\n",
      "Requirement already satisfied: yaspin>=1.0.0 in /opt/conda/lib/python3.7/site-packages (from wandb) (2.1.0)\n",
      "Requirement already satisfied: shortuuid>=0.5.0 in /opt/conda/lib/python3.7/site-packages (from wandb) (1.0.8)\n",
      "Requirement already satisfied: python-dateutil>=2.6.1 in /opt/conda/lib/python3.7/site-packages (from wandb) (2.8.2)\n",
      "Requirement already satisfied: PyYAML in /opt/conda/lib/python3.7/site-packages (from wandb) (5.4.1)\n",
      "Requirement already satisfied: pathtools in /opt/conda/lib/python3.7/site-packages (from wandb) (0.1.2)\n",
      "Requirement already satisfied: protobuf>=3.12.0 in /opt/conda/lib/python3.7/site-packages (from wandb) (3.19.1)\n",
      "Requirement already satisfied: docker-pycreds>=0.4.0 in /opt/conda/lib/python3.7/site-packages (from wandb) (0.4.0)\n",
      "Requirement already satisfied: six>=1.13.0 in /opt/conda/lib/python3.7/site-packages (from wandb) (1.16.0)\n",
      "Requirement already satisfied: psutil>=5.0.0 in /opt/conda/lib/python3.7/site-packages (from wandb) (5.8.0)\n",
      "Requirement already satisfied: subprocess32>=3.5.3 in /opt/conda/lib/python3.7/site-packages (from wandb) (3.5.4)\n",
      "Requirement already satisfied: configparser>=3.8.1 in /opt/conda/lib/python3.7/site-packages (from wandb) (5.1.0)\n",
      "Requirement already satisfied: sentry-sdk>=1.0.0 in /opt/conda/lib/python3.7/site-packages (from wandb) (1.5.0)\n",
      "Requirement already satisfied: importlib-metadata in /opt/conda/lib/python3.7/site-packages (from Click!=8.0.0,>=7.0->wandb) (4.8.1)\n",
      "Requirement already satisfied: gitdb<5,>=4.0.1 in /opt/conda/lib/python3.7/site-packages (from GitPython>=1.0.0->wandb) (4.0.9)\n",
      "Requirement already satisfied: typing-extensions>=3.7.4.3 in /opt/conda/lib/python3.7/site-packages (from GitPython>=1.0.0->wandb) (3.10.0.2)\n",
      "Requirement already satisfied: smmap<6,>=3.0.1 in /opt/conda/lib/python3.7/site-packages (from gitdb<5,>=4.0.1->GitPython>=1.0.0->wandb) (5.0.0)\n",
      "Requirement already satisfied: certifi>=2017.4.17 in /opt/conda/lib/python3.7/site-packages (from requests<3,>=2.0.0->wandb) (2021.10.8)\n",
      "Requirement already satisfied: idna<3,>=2.5 in /opt/conda/lib/python3.7/site-packages (from requests<3,>=2.0.0->wandb) (2.10)\n",
      "Requirement already satisfied: urllib3<1.27,>=1.21.1 in /opt/conda/lib/python3.7/site-packages (from requests<3,>=2.0.0->wandb) (1.26.6)\n",
      "Requirement already satisfied: chardet<5,>=3.0.2 in /opt/conda/lib/python3.7/site-packages (from requests<3,>=2.0.0->wandb) (4.0.0)\n",
      "Requirement already satisfied: termcolor<2.0.0,>=1.1.0 in /opt/conda/lib/python3.7/site-packages (from yaspin>=1.0.0->wandb) (1.1.0)\n",
      "Requirement already satisfied: zipp>=0.5 in /opt/conda/lib/python3.7/site-packages (from importlib-metadata->Click!=8.0.0,>=7.0->wandb) (3.6.0)\n",
      "Requirement already satisfied: pandas in /opt/conda/lib/python3.7/site-packages (1.3.4)\n",
      "Requirement already satisfied: python-dateutil>=2.7.3 in /opt/conda/lib/python3.7/site-packages (from pandas) (2.8.2)\n",
      "Requirement already satisfied: pytz>=2017.3 in /opt/conda/lib/python3.7/site-packages (from pandas) (2021.3)\n",
      "Requirement already satisfied: numpy>=1.17.3 in /opt/conda/lib/python3.7/site-packages (from pandas) (1.21.2)\n",
      "Requirement already satisfied: six>=1.5 in /opt/conda/lib/python3.7/site-packages (from python-dateutil>=2.7.3->pandas) (1.16.0)\n",
      "Requirement already satisfied: matplotlib in /opt/conda/lib/python3.7/site-packages (3.5.0)\n",
      "Requirement already satisfied: pyparsing>=2.2.1 in /opt/conda/lib/python3.7/site-packages (from matplotlib) (2.4.7)\n",
      "Requirement already satisfied: python-dateutil>=2.7 in /opt/conda/lib/python3.7/site-packages (from matplotlib) (2.8.2)\n",
      "Requirement already satisfied: kiwisolver>=1.0.1 in /opt/conda/lib/python3.7/site-packages (from matplotlib) (1.3.2)\n",
      "Requirement already satisfied: pillow>=6.2.0 in /opt/conda/lib/python3.7/site-packages (from matplotlib) (8.4.0)\n",
      "Requirement already satisfied: cycler>=0.10 in /opt/conda/lib/python3.7/site-packages (from matplotlib) (0.11.0)\n",
      "Requirement already satisfied: packaging>=20.0 in /opt/conda/lib/python3.7/site-packages (from matplotlib) (21.2)\n",
      "Requirement already satisfied: setuptools-scm>=4 in /opt/conda/lib/python3.7/site-packages (from matplotlib) (6.3.2)\n",
      "Requirement already satisfied: fonttools>=4.22.0 in /opt/conda/lib/python3.7/site-packages (from matplotlib) (4.28.1)\n",
      "Requirement already satisfied: numpy>=1.17 in /opt/conda/lib/python3.7/site-packages (from matplotlib) (1.21.2)\n",
      "Requirement already satisfied: six>=1.5 in /opt/conda/lib/python3.7/site-packages (from python-dateutil>=2.7->matplotlib) (1.16.0)\n",
      "Requirement already satisfied: tomli>=1.0.0 in /opt/conda/lib/python3.7/site-packages (from setuptools-scm>=4->matplotlib) (1.2.2)\n",
      "Requirement already satisfied: setuptools in /opt/conda/lib/python3.7/site-packages (from setuptools-scm>=4->matplotlib) (58.0.4)\n",
      "Requirement already satisfied: thop in /opt/conda/lib/python3.7/site-packages (0.0.31.post2005241907)\n",
      "Requirement already satisfied: torch>=1.0.0 in /opt/conda/lib/python3.7/site-packages (from thop) (1.9.1)\n",
      "Requirement already satisfied: typing-extensions in /opt/conda/lib/python3.7/site-packages (from torch>=1.0.0->thop) (3.10.0.2)\n"
     ]
    }
   ],
   "source": [
    "%%bash\n",
    "\n",
    "pip install wandb\n",
    "pip install pandas\n",
    "pip install matplotlib\n",
    "pip install thop"
   ]
  },
  {
   "cell_type": "code",
   "execution_count": 1,
   "metadata": {
    "cellId": "018b296c-b339-46b0-888a-d289b8c646ec",
    "colab": {
     "base_uri": "https://localhost:8080/"
    },
    "id": "meO-Mp9jiAFC",
    "outputId": "3ce0c838-cd55-4199-e590-2116cd25d35f"
   },
   "outputs": [
    {
     "name": "stdout",
     "output_type": "stream",
     "text": [
      "Collecting torchaudio==0.9.1\n",
      "  Downloading torchaudio-0.9.1-cp37-cp37m-manylinux1_x86_64.whl (1.9 MB)\n",
      "\u001b[K     |████████████████████████████████| 1.9 MB 2.6 MB/s eta 0:00:01\n",
      "\u001b[?25hCollecting torch==1.9.1\n",
      "  Downloading torch-1.9.1-cp37-cp37m-manylinux1_x86_64.whl (831.4 MB)\n",
      "\u001b[K     |████████████████████████████████| 831.4 MB 2.6 kB/s eta 0:00:019  |                                | 798 kB 2.8 MB/s eta 0:04:55     |████████                        | 208.2 MB 2.6 MB/s eta 0:04:03     |███████████▊                    | 304.6 MB 3.1 MB/s eta 0:02:48     |███████████████▎                | 397.9 MB 2.7 MB/s eta 0:02:41     |███████████████████████████████ | 803.6 MB 2.6 MB/s eta 0:00:11     |███████████████████████████████▉| 825.9 MB 3.0 MB/s eta 0:00:02\n",
      "\u001b[?25hRequirement already satisfied: typing-extensions in /opt/conda/lib/python3.7/site-packages (from torch==1.9.1->torchaudio==0.9.1) (3.10.0.2)\n",
      "Installing collected packages: torch, torchaudio\n",
      "  Attempting uninstall: torch\n",
      "    Found existing installation: torch 1.10.0\n",
      "    Uninstalling torch-1.10.0:\n",
      "      Successfully uninstalled torch-1.10.0\n",
      "Successfully installed torch-1.9.1 torchaudio-0.9.1\n"
     ]
    }
   ],
   "source": [
    "!pip install torchaudio==0.9.1"
   ]
  },
  {
   "cell_type": "code",
   "execution_count": 2,
   "metadata": {
    "cellId": "pp7x2a12gbrym8vu4ylh5a"
   },
   "outputs": [
    {
     "name": "stdout",
     "output_type": "stream",
     "text": [
      "Name: torch\n",
      "Version: 1.9.1\n",
      "Summary: Tensors and Dynamic neural networks in Python with strong GPU acceleration\n",
      "Home-page: https://pytorch.org/\n",
      "Author: PyTorch Team\n",
      "Author-email: packages@pytorch.org\n",
      "License: BSD-3\n",
      "Location: /opt/conda/lib/python3.7/site-packages\n",
      "Requires: typing-extensions\n",
      "Required-by: torchvision, torchtext, torchelastic, torchaudio\n",
      "Note: you may need to restart the kernel to use updated packages.\n"
     ]
    }
   ],
   "source": [
    "#!g1.1\n",
    "%pip show torch"
   ]
  },
  {
   "cell_type": "code",
   "execution_count": 4,
   "metadata": {
    "cellId": "g3iqllfm6mrl69e1hmddd"
   },
   "outputs": [
    {
     "name": "stdout",
     "output_type": "stream",
     "text": [
      "Collecting pandas\n",
      "  Downloading pandas-1.3.4-cp37-cp37m-manylinux_2_17_x86_64.manylinux2014_x86_64.whl (11.3 MB)\n",
      "\u001b[K     |████████████████████████████████| 11.3 MB 3.5 MB/s eta 0:00:01\n",
      "\u001b[?25hRequirement already satisfied: numpy>=1.17.3 in /opt/conda/lib/python3.7/site-packages (from pandas) (1.21.2)\n",
      "Requirement already satisfied: pytz>=2017.3 in /opt/conda/lib/python3.7/site-packages (from pandas) (2021.3)\n",
      "Requirement already satisfied: python-dateutil>=2.7.3 in /opt/conda/lib/python3.7/site-packages (from pandas) (2.8.2)\n",
      "Requirement already satisfied: six>=1.5 in /opt/conda/lib/python3.7/site-packages (from python-dateutil>=2.7.3->pandas) (1.16.0)\n",
      "Installing collected packages: pandas\n",
      "Successfully installed pandas-1.3.4\n"
     ]
    }
   ],
   "source": [
    "#!g1.1\n",
    "!pip install pandas"
   ]
  },
  {
   "cell_type": "code",
   "execution_count": null,
   "metadata": {},
   "outputs": [],
   "source": []
  },
  {
   "cell_type": "code",
   "execution_count": 13,
   "metadata": {},
   "outputs": [
    {
     "name": "stdout",
     "output_type": "stream",
     "text": [
      "--2021-11-20 10:59:29--  https://gist.githubusercontent.com/Kirili4ik/6ac5c745ff8dad094e9c464c08f66f3e/raw/63daacc17f52a7d90f7f4166a3f5deef62b165db/dataset_utils.py\n",
      "Resolving gist.githubusercontent.com (gist.githubusercontent.com)... 185.199.108.133, 185.199.109.133, 185.199.110.133, ...\n",
      "Connecting to gist.githubusercontent.com (gist.githubusercontent.com)|185.199.108.133|:443... connected.\n",
      "HTTP request sent, awaiting response... 200 OK\n",
      "Length: 3475 (3.4K) [text/plain]\n",
      "Saving to: ‘dataset_utils.py’\n",
      "\n",
      "dataset_utils.py    100%[===================>]   3.39K  --.-KB/s    in 0s      \n",
      "\n",
      "2021-11-20 10:59:29 (7.11 MB/s) - ‘dataset_utils.py’ saved [3475/3475]\n",
      "\n"
     ]
    }
   ],
   "source": [
    "! wget https://gist.githubusercontent.com/Kirili4ik/6ac5c745ff8dad094e9c464c08f66f3e/raw/63daacc17f52a7d90f7f4166a3f5deef62b165db/dataset_utils.py"
   ]
  },
  {
   "cell_type": "code",
   "execution_count": 16,
   "metadata": {
    "cellId": "4fxkj6232s9mgeefm6ax0n"
   },
   "outputs": [],
   "source": [
    "#!g1.1\n"
   ]
  },
  {
   "cell_type": "code",
   "execution_count": 17,
   "metadata": {
    "cellId": "d2d47464-5bb4-4699-aa25-cfd2981eaa57",
    "id": "bbUpoArCqUYa"
   },
   "outputs": [
    {
     "data": {
      "text/plain": [
       "<torch._C.Generator at 0x7f070ba21e90>"
      ]
     },
     "execution_count": 17,
     "metadata": {},
     "output_type": "execute_result"
    }
   ],
   "source": [
    "#!g1.1\n",
    "\n",
    "from typing import Tuple, Union, List, Callable, Optional\n",
    "from tqdm import tqdm\n",
    "from itertools import islice\n",
    "import pathlib\n",
    "import dataclasses\n",
    "\n",
    "import numpy as np\n",
    "import pandas as pd\n",
    "\n",
    "import torch\n",
    "import torch.nn.functional as F\n",
    "from torch import nn\n",
    "from torch import distributions\n",
    "from torch.utils.data import DataLoader, Dataset, WeightedRandomSampler\n",
    "from torch.nn.utils.rnn import pad_sequence\n",
    "\n",
    "import torchaudio\n",
    "from IPython import display as display_\n",
    "\n",
    "import random\n",
    "random.seed(42)\n",
    "np.random.seed(42)\n",
    "torch.manual_seed(0)"
   ]
  },
  {
   "cell_type": "markdown",
   "metadata": {
    "cellId": "a95aca1f-c38d-47ba-8b82-dd6a9a00ce80",
    "id": "812GwLfqqUYf"
   },
   "source": [
    "# Task"
   ]
  },
  {
   "cell_type": "markdown",
   "metadata": {
    "cellId": "f184ec76-891c-40e4-8131-80622b75b451",
    "id": "i1DuQIyRqUYf"
   },
   "source": [
    "In this notebook we will implement a model for finding a keyword in a stream.\n",
    "\n",
    "We will implement the version with CRNN because it is easy and improves the model. \n",
    "(from https://www.dropbox.com/s/22ah2ba7dug6pzw/KWS_Attention.pdf)"
   ]
  },
  {
   "cell_type": "code",
   "execution_count": 187,
   "metadata": {
    "cellId": "0e5775b5-b55f-43e9-b835-29b0b92996ec",
    "id": "8PdhApeEh9pH"
   },
   "outputs": [],
   "source": [
    "#!g1.1\n",
    "@dataclasses.dataclass\n",
    "class TaskConfig:\n",
    "    keyword: str = 'sheila'  # We will use 1 key word -- 'sheila'\n",
    "    batch_size: int = 128\n",
    "    learning_rate: float = 3e-4\n",
    "    weight_decay: float = 1e-5\n",
    "    num_epochs: int = 40\n",
    "    n_mels: int = 40\n",
    "    cnn_out_channels: int = 8\n",
    "    kernel_size: Tuple[int, int] = (5, 20)\n",
    "    stride: Tuple[int, int] = (2, 8)\n",
    "    hidden_size: int = 64\n",
    "    gru_num_layers: int = 2\n",
    "    bidirectional: bool = False\n",
    "    num_classes: int = 2\n",
    "    sample_rate: int = 16000\n",
    "    device: torch.device = torch.device(\n",
    "        'cuda:0' if torch.cuda.is_available() else 'cpu')"
   ]
  },
  {
   "cell_type": "markdown",
   "metadata": {
    "cellId": "8838a605-1482-4c7f-a34c-4a03d4f676d0",
    "id": "KA1gPmE1h9pI"
   },
   "source": [
    "# Data"
   ]
  },
  {
   "cell_type": "code",
   "execution_count": 19,
   "metadata": {
    "cellId": "4wdu7k0ooeu2fglescr57v"
   },
   "outputs": [],
   "source": [
    "#!g1.1\n",
    "\n",
    "class SpeechCommandDataset(Dataset):\n",
    "\n",
    "    def __init__(\n",
    "        self,\n",
    "        transform: Optional[Callable] = None,\n",
    "        path2dir: str = None,\n",
    "        keywords: Union[str, List[str]] = None,\n",
    "        csv: Optional[pd.DataFrame] = None\n",
    "    ):        \n",
    "        self.transform = transform\n",
    "\n",
    "        if csv is None:\n",
    "            path2dir = pathlib.Path(path2dir)\n",
    "            keywords = keywords if isinstance(keywords, list) else [keywords]\n",
    "            \n",
    "            all_keywords = [\n",
    "                p.stem for p in path2dir.glob('*')\n",
    "                if p.is_dir() and not p.stem.startswith('_')\n",
    "            ]\n",
    "\n",
    "            triplets = []\n",
    "            for keyword in all_keywords:\n",
    "                paths = (path2dir / keyword).rglob('*.wav')\n",
    "                if keyword in keywords:\n",
    "                    for path2wav in paths:\n",
    "                        triplets.append((path2wav.as_posix(), keyword, 1))\n",
    "                else:\n",
    "                    for path2wav in paths:\n",
    "                        triplets.append((path2wav.as_posix(), keyword, 0))\n",
    "            \n",
    "            self.csv = pd.DataFrame(\n",
    "                triplets,\n",
    "                columns=['path', 'keyword', 'label']\n",
    "            )\n",
    "\n",
    "        else:\n",
    "            self.csv = csv\n",
    "            \n",
    "    def __getitem__(self, index: int):\n",
    "        instance = self.csv.iloc[index]\n",
    "\n",
    "        path2wav = instance['path']\n",
    "        wav, sr = torchaudio.load(path2wav)\n",
    "        wav = wav.sum(dim=0)\n",
    "        \n",
    "        if self.transform:\n",
    "            wav = self.transform(wav)\n",
    "\n",
    "        return {\n",
    "            'wav': wav,\n",
    "            'keywors': instance['keyword'],\n",
    "            'label': instance['label']\n",
    "        }\n",
    "\n",
    "    def __len__(self):\n",
    "        return len(self.csv)"
   ]
  },
  {
   "cell_type": "code",
   "execution_count": null,
   "metadata": {},
   "outputs": [],
   "source": []
  },
  {
   "cell_type": "code",
   "execution_count": null,
   "metadata": {},
   "outputs": [],
   "source": []
  },
  {
   "cell_type": "code",
   "execution_count": 21,
   "metadata": {
    "cellId": "7b1450b2-cb28-4e71-9617-0c3cd86e8a8b",
    "colab": {
     "base_uri": "https://localhost:8080/",
     "height": 252
    },
    "id": "QKgGdL8jh9pJ",
    "outputId": "faf10e67-60ce-4de9-f97a-39bcc81bfd24"
   },
   "outputs": [
    {
     "data": {
      "text/html": [
       "<div>\n",
       "<style scoped>\n",
       "    .dataframe tbody tr th:only-of-type {\n",
       "        vertical-align: middle;\n",
       "    }\n",
       "\n",
       "    .dataframe tbody tr th {\n",
       "        vertical-align: top;\n",
       "    }\n",
       "\n",
       "    .dataframe thead th {\n",
       "        text-align: right;\n",
       "    }\n",
       "</style>\n",
       "<table border=\"1\" class=\"dataframe\">\n",
       "  <thead>\n",
       "    <tr style=\"text-align: right;\">\n",
       "      <th></th>\n",
       "      <th>path</th>\n",
       "      <th>keyword</th>\n",
       "      <th>label</th>\n",
       "    </tr>\n",
       "  </thead>\n",
       "  <tbody>\n",
       "    <tr>\n",
       "      <th>58334</th>\n",
       "      <td>speech_commands/up/8a5acefd_nohash_0.wav</td>\n",
       "      <td>up</td>\n",
       "      <td>0</td>\n",
       "    </tr>\n",
       "    <tr>\n",
       "      <th>2928</th>\n",
       "      <td>speech_commands/sheila/d6b155a5_nohash_0.wav</td>\n",
       "      <td>sheila</td>\n",
       "      <td>1</td>\n",
       "    </tr>\n",
       "    <tr>\n",
       "      <th>44575</th>\n",
       "      <td>speech_commands/five/d7ca14ef_nohash_0.wav</td>\n",
       "      <td>five</td>\n",
       "      <td>0</td>\n",
       "    </tr>\n",
       "    <tr>\n",
       "      <th>48321</th>\n",
       "      <td>speech_commands/right/6add0595_nohash_1.wav</td>\n",
       "      <td>right</td>\n",
       "      <td>0</td>\n",
       "    </tr>\n",
       "    <tr>\n",
       "      <th>22522</th>\n",
       "      <td>speech_commands/go/f9318c93_nohash_0.wav</td>\n",
       "      <td>go</td>\n",
       "      <td>0</td>\n",
       "    </tr>\n",
       "  </tbody>\n",
       "</table>\n",
       "</div>"
      ],
      "text/plain": [
       "                                               path keyword  label\n",
       "58334      speech_commands/up/8a5acefd_nohash_0.wav      up      0\n",
       "2928   speech_commands/sheila/d6b155a5_nohash_0.wav  sheila      1\n",
       "44575    speech_commands/five/d7ca14ef_nohash_0.wav    five      0\n",
       "48321   speech_commands/right/6add0595_nohash_1.wav   right      0\n",
       "22522      speech_commands/go/f9318c93_nohash_0.wav      go      0"
      ]
     },
     "execution_count": 21,
     "metadata": {},
     "output_type": "execute_result"
    }
   ],
   "source": [
    "#!g1.1\n",
    "\n",
    "dataset = SpeechCommandDataset(\n",
    "    path2dir='speech_commands', keywords=TaskConfig.keyword\n",
    ")\n",
    "\n",
    "dataset.csv.sample(5)"
   ]
  },
  {
   "cell_type": "code",
   "execution_count": 5,
   "metadata": {
    "cellId": "jxvp74iwcpdcorlta40noq"
   },
   "outputs": [],
   "source": [
    "#!g1.1\n"
   ]
  },
  {
   "cell_type": "markdown",
   "metadata": {
    "cellId": "d3f99ea7-d46f-4a82-910d-c8c773a4d7be",
    "id": "LUxfDJw1qUYi"
   },
   "source": [
    "### Augmentations"
   ]
  },
  {
   "cell_type": "code",
   "execution_count": 22,
   "metadata": {
    "cellId": "9531793c-262d-4df9-805b-0d1bb7fb1607",
    "id": "dkmkxPWQqUYe"
   },
   "outputs": [],
   "source": [
    "#!g1.1\n",
    "\n",
    "class AugsCreation:\n",
    "\n",
    "    def __init__(self):\n",
    "        self.background_noises = [\n",
    "            'speech_commands/_background_noise_/white_noise.wav',\n",
    "            'speech_commands/_background_noise_/dude_miaowing.wav',\n",
    "            'speech_commands/_background_noise_/doing_the_dishes.wav',\n",
    "            'speech_commands/_background_noise_/exercise_bike.wav',\n",
    "            'speech_commands/_background_noise_/pink_noise.wav',\n",
    "            'speech_commands/_background_noise_/running_tap.wav'\n",
    "        ]\n",
    "\n",
    "    def add_rand_noise(self, audio):\n",
    "\n",
    "        # randomly choose noise\n",
    "        noise_num = torch.randint(low=0, high=len(\n",
    "            self.background_noises), size=(1,)).item()\n",
    "        noise = torchaudio.load(self.background_noises[noise_num])[0].squeeze()\n",
    "\n",
    "        noise_level = torch.Tensor([1])  # [0, 40]\n",
    "\n",
    "        noise_energy = torch.norm(noise)\n",
    "        audio_energy = torch.norm(audio)\n",
    "        alpha = (audio_energy / noise_energy) * \\\n",
    "            torch.pow(10, -noise_level / 20)\n",
    "\n",
    "        start = torch.randint(low=0, high=int(\n",
    "            noise.size(0) - audio.size(0) - 1), size=(1,)).item()\n",
    "        noise_sample = noise[start: start + audio.size(0)]\n",
    "\n",
    "        audio_new = audio + alpha * noise_sample\n",
    "        audio_new.clamp_(-1, 1)\n",
    "        return audio_new\n",
    "\n",
    "    def __call__(self, wav):\n",
    "        aug_num = torch.randint(low=0, high=4, size=(1,)).item()   # choose 1 random aug from augs\n",
    "        augs = [\n",
    "            lambda x: x,\n",
    "            lambda x: (x + distributions.Normal(0, 0.01).sample(x.size())).clamp_(-1, 1),\n",
    "            lambda x: torchaudio.transforms.Vol(.25)(x),\n",
    "            lambda x: self.add_rand_noise(x)\n",
    "        ]\n",
    "\n",
    "        return augs[aug_num](wav)"
   ]
  },
  {
   "cell_type": "code",
   "execution_count": 23,
   "metadata": {
    "cellId": "42692c51-1016-4aaa-bb7a-183000ce0b46",
    "id": "ClWThxyYh9pM"
   },
   "outputs": [],
   "source": [
    "#!g1.1\n",
    "\n",
    "indexes = torch.randperm(len(dataset))\n",
    "train_indexes = indexes[:int(len(dataset) * 0.8)]\n",
    "val_indexes = indexes[int(len(dataset) * 0.8):]\n",
    "\n",
    "train_df = dataset.csv.iloc[train_indexes].reset_index(drop=True)\n",
    "val_df = dataset.csv.iloc[val_indexes].reset_index(drop=True)\n",
    "\n",
    "train_set = SpeechCommandDataset(csv=train_df, transform=AugsCreation())\n",
    "val_set = SpeechCommandDataset(csv=val_df)"
   ]
  },
  {
   "cell_type": "markdown",
   "metadata": {
    "cellId": "9cb87495-1cbb-4a61-afa5-2c28f50eb6a9",
    "id": "2vbPDqd6qUYj"
   },
   "source": [
    "### Sampler for oversampling:"
   ]
  },
  {
   "cell_type": "code",
   "execution_count": 24,
   "metadata": {
    "cellId": "459b84b4-8cc1-42e0-b26c-9b3e28af876b",
    "id": "rfnjRKo2qUYj"
   },
   "outputs": [],
   "source": [
    "#!g1.1\n",
    "\n",
    "# We should provide to WeightedRandomSampler _weight for every sample_; by default it is 1/len(target)\n",
    "\n",
    "def get_sampler(target):\n",
    "    class_sample_count = np.array(\n",
    "        [len(np.where(target == t)[0]) for t in np.unique(target)])   # for every class count it's number of occ.\n",
    "    weight = 1. / class_sample_count\n",
    "    samples_weight = np.array([weight[t] for t in target])\n",
    "    samples_weight = torch.from_numpy(samples_weight)\n",
    "    samples_weigth = samples_weight.double()\n",
    "    sampler = WeightedRandomSampler(samples_weight, len(samples_weight))\n",
    "    return sampler"
   ]
  },
  {
   "cell_type": "code",
   "execution_count": 25,
   "metadata": {
    "cellId": "ff2ead38-9c65-4085-ac3c-66c79e6cc8ec",
    "id": "UM8gLmHeqUYj"
   },
   "outputs": [],
   "source": [
    "#!g1.1\n",
    "\n",
    "train_sampler = get_sampler(train_set.csv['label'].values)\n",
    "val_sampler = get_sampler(val_set.csv['label'].values)"
   ]
  },
  {
   "cell_type": "code",
   "execution_count": 26,
   "metadata": {
    "cellId": "8e9f2ade-c47c-4920-8683-8930a3dedfca",
    "id": "lyBqbxp0h9pO"
   },
   "outputs": [],
   "source": [
    "#!g1.1\n",
    "\n",
    "class Collator:\n",
    "    \n",
    "    def __call__(self, data):\n",
    "        wavs = []\n",
    "        labels = []    \n",
    "\n",
    "        for el in data:\n",
    "            wavs.append(el['wav'])\n",
    "            labels.append(el['label'])\n",
    "\n",
    "        # torch.nn.utils.rnn.pad_sequence takes list(Tensors) and returns padded (with 0.0) Tensor\n",
    "        wavs = pad_sequence(wavs, batch_first=True)    \n",
    "        labels = torch.Tensor(labels).long()\n",
    "        return wavs, labels"
   ]
  },
  {
   "cell_type": "markdown",
   "metadata": {
    "cellId": "661cd62e-0551-4868-96cf-0ca8ad0cf473",
    "id": "e8G9xPRVqUYk"
   },
   "source": [
    "###  Dataloaders"
   ]
  },
  {
   "cell_type": "code",
   "execution_count": 280,
   "metadata": {},
   "outputs": [],
   "source": [
    "batch, label = next(iter(train_loader))"
   ]
  },
  {
   "cell_type": "code",
   "execution_count": null,
   "metadata": {},
   "outputs": [],
   "source": []
  },
  {
   "cell_type": "code",
   "execution_count": 437,
   "metadata": {
    "cellId": "6tpxn7w9adlks0xwf4r92p"
   },
   "outputs": [],
   "source": [
    "#!g1.1\n",
    "\n",
    "# Here we are obliged to use shuffle=False because of our sampler with randomness inside.\n",
    "\n",
    "train_loader = DataLoader(train_set, batch_size=TaskConfig.batch_size,\n",
    "                          shuffle=False, collate_fn=Collator(),\n",
    "                          sampler=train_sampler,\n",
    "                          num_workers=35, pin_memory=True)\n",
    "\n",
    "val_loader = DataLoader(val_set, batch_size=TaskConfig.batch_size,\n",
    "                        shuffle=False, collate_fn=Collator(),\n",
    "                        num_workers=35, pin_memory=True)\n"
   ]
  },
  {
   "cell_type": "code",
   "execution_count": 28,
   "metadata": {
    "cellId": "4d9g1ccd62y9tauvfkmqr"
   },
   "outputs": [],
   "source": [
    "#!g1.1\n"
   ]
  },
  {
   "cell_type": "markdown",
   "metadata": {
    "cellId": "36ec5b97-cfd6-4c9b-99b6-ef013081ae2a",
    "id": "kTlsn6cpqUYk"
   },
   "source": [
    "### Creating MelSpecs on GPU for speeeed: "
   ]
  },
  {
   "cell_type": "code",
   "execution_count": 29,
   "metadata": {
    "cellId": "74259d9c-0838-4c25-86de-59807c63dd5f",
    "id": "pRXMt6it56fW"
   },
   "outputs": [],
   "source": [
    "#!g1.1\n",
    "\n",
    "class LogMelspec:\n",
    "    def __init__(self, is_train, config):\n",
    "        # with augmentations\n",
    "        if is_train:\n",
    "            self.melspec = nn.Sequential(\n",
    "                torchaudio.transforms.MelSpectrogram(\n",
    "                    sample_rate=config.sample_rate,\n",
    "                    n_fft=400,\n",
    "                    win_length=400,\n",
    "                    hop_length=160,\n",
    "                    n_mels=config.n_mels\n",
    "                ),\n",
    "                torchaudio.transforms.FrequencyMasking(freq_mask_param=15),\n",
    "                torchaudio.transforms.TimeMasking(time_mask_param=35),\n",
    "            ).to(config.device)\n",
    "\n",
    "        # no augmentations\n",
    "        else:\n",
    "            self.melspec = torchaudio.transforms.MelSpectrogram(\n",
    "                sample_rate=config.sample_rate,\n",
    "                n_fft=400,\n",
    "                win_length=400,\n",
    "                hop_length=160,\n",
    "                n_mels=config.n_mels\n",
    "            ).to(config.device)\n",
    "\n",
    "    def __call__(self, batch):\n",
    "        # already on device\n",
    "        return torch.log(self.melspec(batch).clamp_(min=1e-9, max=1e9))"
   ]
  },
  {
   "cell_type": "code",
   "execution_count": 30,
   "metadata": {
    "cellId": "66db8007-5404-4ce2-ad4f-95cf63018851",
    "id": "Pqkz4_gn8BiF"
   },
   "outputs": [],
   "source": [
    "#!g1.1\n",
    "\n",
    "melspec_train = LogMelspec(is_train=True, config=TaskConfig)\n",
    "melspec_val = LogMelspec(is_train=False, config=TaskConfig)"
   ]
  },
  {
   "cell_type": "markdown",
   "metadata": {
    "cellId": "26424a6c-583a-4755-844f-8723283cf14a",
    "id": "zoAxmihY8yxr"
   },
   "source": [
    "### Quality measurment functions:"
   ]
  },
  {
   "cell_type": "code",
   "execution_count": 31,
   "metadata": {
    "cellId": "8aaf95da-9890-41e3-abd7-bd4c51fddc1f",
    "id": "euwD1UyuqUYk"
   },
   "outputs": [],
   "source": [
    "#!g1.1\n",
    "\n",
    "# FA - true: 0, model: 1\n",
    "# FR - true: 1, model: 0\n",
    "\n",
    "def count_FA_FR(preds, labels):\n",
    "    FA = torch.sum(preds[labels == 0])\n",
    "    FR = torch.sum(labels[preds == 0])\n",
    "    \n",
    "    # torch.numel - returns total number of elements in tensor\n",
    "    return FA.item() / torch.numel(preds), FR.item() / torch.numel(preds)"
   ]
  },
  {
   "cell_type": "code",
   "execution_count": 32,
   "metadata": {
    "cellId": "6301db4a-e86b-4fb4-bbe0-4d01544820a7",
    "id": "YHBUrkT1qUYk"
   },
   "outputs": [],
   "source": [
    "#!g1.1\n",
    "\n",
    "def get_au_fa_fr(probs, labels):\n",
    "    sorted_probs, _ = torch.sort(probs)\n",
    "    sorted_probs = torch.cat((torch.Tensor([0]), sorted_probs, torch.Tensor([1])))\n",
    "    labels = torch.cat(labels, dim=0)\n",
    "        \n",
    "    FAs, FRs = [], []\n",
    "    for prob in sorted_probs:\n",
    "        preds = (probs >= prob) * 1\n",
    "        FA, FR = count_FA_FR(preds, labels)        \n",
    "        FAs.append(FA)\n",
    "        FRs.append(FR)\n",
    "    # plt.plot(FAs, FRs)\n",
    "    # plt.show()\n",
    "\n",
    "    # ~ area under curve using trapezoidal rule\n",
    "    return -np.trapz(FRs, x=FAs)"
   ]
  },
  {
   "cell_type": "markdown",
   "metadata": {
    "cellId": "1089b5b7-f654-469d-a77d-0880fe884600",
    "id": "CcEP5cEZqUYl"
   },
   "source": [
    "### Model"
   ]
  },
  {
   "cell_type": "code",
   "execution_count": 394,
   "metadata": {
    "cellId": "c6079a07-5353-4a96-9928-e409a707c9bf",
    "id": "UIT6STF_qUYl"
   },
   "outputs": [
    {
     "data": {
      "text/plain": [
       "CRNN(\n",
       "  (conv): Sequential(\n",
       "    (0): Conv2d(1, 8, kernel_size=(5, 20), stride=(2, 8))\n",
       "    (1): Flatten(start_dim=1, end_dim=2)\n",
       "  )\n",
       "  (gru): GRU(144, 64, num_layers=2, batch_first=True, dropout=0.1)\n",
       "  (attention): Attention(\n",
       "    (energy): Sequential(\n",
       "      (0): Linear(in_features=64, out_features=64, bias=True)\n",
       "      (1): Tanh()\n",
       "      (2): Linear(in_features=64, out_features=1, bias=True)\n",
       "    )\n",
       "  )\n",
       "  (classifier): Linear(in_features=64, out_features=2, bias=True)\n",
       ")"
      ]
     },
     "execution_count": 394,
     "metadata": {},
     "output_type": "execute_result"
    }
   ],
   "source": [
    "#!g1.1\n",
    "\n",
    "class Attention(nn.Module):\n",
    "\n",
    "    def __init__(self, hidden_size: int):\n",
    "        super().__init__()\n",
    "\n",
    "        self.energy = nn.Sequential(\n",
    "            nn.Linear(hidden_size, hidden_size),\n",
    "            nn.Tanh(),\n",
    "            nn.Linear(hidden_size, 1)\n",
    "        )\n",
    "    \n",
    "    def forward(self, input):\n",
    "        energy = self.energy(input)\n",
    "        alpha = torch.softmax(energy, dim=-2)\n",
    "        return (input * alpha).sum(dim=-2)\n",
    "\n",
    "class CRNN(nn.Module):\n",
    "\n",
    "    def __init__(self, config: TaskConfig):\n",
    "        super().__init__()\n",
    "        self.config = config\n",
    "\n",
    "        self.conv = nn.Sequential(\n",
    "            nn.Conv2d(\n",
    "                in_channels=1, out_channels=config.cnn_out_channels,\n",
    "                kernel_size=config.kernel_size, stride=config.stride\n",
    "            ),\n",
    "            nn.Flatten(start_dim=1, end_dim=2),\n",
    "        )\n",
    "\n",
    "        self.conv_out_frequency = (config.n_mels - config.kernel_size[0]) // \\\n",
    "            config.stride[0] + 1\n",
    "        \n",
    "        self.gru = nn.GRU(\n",
    "            input_size=self.conv_out_frequency * config.cnn_out_channels,\n",
    "            hidden_size=config.hidden_size,\n",
    "            num_layers=config.gru_num_layers,\n",
    "            dropout=0.1,\n",
    "            bidirectional=config.bidirectional,\n",
    "            batch_first=True\n",
    "        )\n",
    "\n",
    "        self.attention = Attention(config.hidden_size)\n",
    "        self.classifier = nn.Linear(config.hidden_size, config.num_classes)\n",
    "    \n",
    "    def forward(self, input):\n",
    "        input = input.unsqueeze(dim=1)\n",
    "        conv_output = self.conv(input).transpose(-1, -2)\n",
    "        gru_output, _ = self.gru(conv_output)\n",
    "        contex_vector = self.attention(gru_output)\n",
    "        output = self.classifier(contex_vector)\n",
    "                \n",
    "        return output\n",
    "\n",
    "config = TaskConfig()\n",
    "model = CRNN(config)\n",
    "model"
   ]
  },
  {
   "cell_type": "code",
   "execution_count": null,
   "metadata": {},
   "outputs": [],
   "source": []
  },
  {
   "cell_type": "code",
   "execution_count": null,
   "metadata": {},
   "outputs": [],
   "source": []
  },
  {
   "cell_type": "code",
   "execution_count": 34,
   "metadata": {
    "cellId": "6f1d1e93-bb10-43ae-a995-376954726f20"
   },
   "outputs": [],
   "source": [
    "#!g1.1\n",
    "class KDLoss(nn.KLDivLoss):\n",
    "    \"\"\"\n",
    "    \"Distilling the Knowledge in a Neural Network\"\n",
    "    \"\"\"\n",
    "    def __init__(self, temperature, alpha=None, beta=None, reduction=None, **kwargs):\n",
    "        super().__init__(reduction=reduction)\n",
    "        self.temperature = temperature\n",
    "        self.alpha = alpha\n",
    "        self.beta = 1 - alpha if beta is None else beta\n",
    "\n",
    "    def forward(self, student_output, teacher_output, targets=None, *args, **kwargs):\n",
    "        soft_loss = super().forward(\n",
    "            torch.log_softmax(student_output / self.temperature, dim=1),\n",
    "            torch.softmax(teacher_output / self.temperature, dim=1)\n",
    "        )\n",
    "      \n",
    "        return (self.temperature ** 2) * soft_loss"
   ]
  },
  {
   "cell_type": "code",
   "execution_count": 35,
   "metadata": {
    "cellId": "96fd7472-b88b-45e1-8757-daddfad56959",
    "id": "DmmSFvWaqUYn"
   },
   "outputs": [],
   "source": [
    "#!g1.1\n",
    "\n",
    "def train_epoch(model, opt, loader, log_melspec, device, distil=None):\n",
    "    if distil is not None:\n",
    "        teacher_model, alpha, distil_loss = distil\n",
    "    \n",
    "    model.train()\n",
    "    for i, (batch, labels) in tqdm(enumerate(loader)):\n",
    "        batch, labels = batch.to(device), labels.to(device)\n",
    "        batch = log_melspec(batch)\n",
    "\n",
    "        opt.zero_grad()\n",
    "\n",
    "        # run model # with autocast():\n",
    "        logits = model(batch)\n",
    "        # we need probabilities so we use softmax & CE separately\n",
    "        probs = F.softmax(logits, dim=-1)\n",
    "        loss = F.cross_entropy(logits, labels)\n",
    "        \n",
    "        if distil is not None:\n",
    "            with torch.no_grad():\n",
    "                teacher_logits = teacher_model(batch)\n",
    "            \n",
    "            loss = loss * alpha + (1 - alpha) * distil_loss(teacher_logits, logits)\n",
    "        \n",
    "        loss.backward()\n",
    "        torch.nn.utils.clip_grad_norm_(model.parameters(), 5)\n",
    "\n",
    "        opt.step()\n",
    "\n",
    "        # logging\n",
    "        argmax_probs = torch.argmax(probs, dim=-1)\n",
    "        FA, FR = count_FA_FR(argmax_probs, labels)\n",
    "        acc = torch.sum(argmax_probs == labels) / torch.numel(argmax_probs)\n",
    "\n",
    "    return acc"
   ]
  },
  {
   "cell_type": "code",
   "execution_count": 36,
   "metadata": {
    "cellId": "a1e01971-0859-469f-831f-764639f0a330",
    "id": "UIeRbn4tqUYo"
   },
   "outputs": [],
   "source": [
    "#!g1.1\n",
    "\n",
    "@torch.no_grad()\n",
    "def validation(model, loader, log_melspec, device, wandb=None):\n",
    "    model.eval()\n",
    "\n",
    "    val_losses, accs, FAs, FRs = [], [], [], []\n",
    "    all_probs, all_labels = [], []\n",
    "    for i, (batch, labels) in tqdm(enumerate(loader)):\n",
    "        batch, labels = batch.to(device), labels.to(device)\n",
    "        batch = log_melspec(batch)\n",
    "\n",
    "        output = model(batch)\n",
    "        # we need probabilities so we use softmax & CE separately\n",
    "        probs = F.softmax(output, dim=-1)\n",
    "        loss = F.cross_entropy(output, labels)\n",
    "\n",
    "        # logging\n",
    "        argmax_probs = torch.argmax(probs, dim=-1)\n",
    "        all_probs.append(probs[:, 1].cpu())\n",
    "        all_labels.append(labels.cpu())\n",
    "        val_losses.append(loss.item())\n",
    "        accs.append(\n",
    "            torch.sum(argmax_probs == labels).item() /  # ???\n",
    "            torch.numel(argmax_probs)\n",
    "        )\n",
    "        FA, FR = count_FA_FR(argmax_probs, labels)\n",
    "        FAs.append(FA)\n",
    "        FRs.append(FR)\n",
    "\n",
    "    # area under FA/FR curve for whole loader\n",
    "    au_fa_fr = get_au_fa_fr(torch.cat(all_probs, dim=0).cpu(), all_labels)\n",
    "    \n",
    "    if wandb is not None:\n",
    "        wandb.log({\n",
    "            \"au_fa_fr\": au_fa_fr,\n",
    "            \"mean_val_acc\": np.mean(accs),\n",
    "            \"mean_val_loss\": np.mean(val_losses)\n",
    "        })\n",
    "    \n",
    "    return au_fa_fr"
   ]
  },
  {
   "cell_type": "code",
   "execution_count": 45,
   "metadata": {
    "cellId": "dff9489f-c0ac-4279-963c-8d225da0e5ab",
    "id": "PpyvKwp0k3IU"
   },
   "outputs": [],
   "source": [
    "#!g1.1\n",
    "\n",
    "from collections import defaultdict\n",
    "from IPython.display import clear_output\n",
    "from matplotlib import pyplot as plt\n",
    "\n"
   ]
  },
  {
   "cell_type": "code",
   "execution_count": 41,
   "metadata": {
    "cellId": "75bc6301-06d7-46f6-9725-0290b934f580",
    "colab": {
     "base_uri": "https://localhost:8080/"
    },
    "id": "Q8sVpHNoocgA",
    "outputId": "91f2f178-98a6-448c-be99-80457a76ee4a"
   },
   "outputs": [
    {
     "name": "stdout",
     "output_type": "stream",
     "text": [
      "CRNN(\n",
      "  (conv): Sequential(\n",
      "    (0): Conv2d(1, 8, kernel_size=(5, 20), stride=(2, 8))\n",
      "    (1): Flatten(start_dim=1, end_dim=2)\n",
      "  )\n",
      "  (gru): GRU(144, 64, num_layers=2, batch_first=True, dropout=0.1)\n",
      "  (attention): Attention(\n",
      "    (energy): Sequential(\n",
      "      (0): Linear(in_features=64, out_features=64, bias=True)\n",
      "      (1): Tanh()\n",
      "      (2): Linear(in_features=64, out_features=1, bias=True)\n",
      "    )\n",
      "  )\n",
      "  (classifier): Linear(in_features=64, out_features=2, bias=True)\n",
      ")\n"
     ]
    }
   ],
   "source": [
    "#!g1.1\n",
    "\n",
    "config = TaskConfig()\n",
    "model = CRNN(config).to(config.device)\n",
    "\n",
    "print(model)\n",
    "\n",
    "opt = torch.optim.Adam(\n",
    "    model.parameters(),\n",
    "    lr=config.learning_rate,\n",
    "    weight_decay=config.weight_decay\n",
    ")"
   ]
  },
  {
   "cell_type": "code",
   "execution_count": 42,
   "metadata": {
    "cellId": "wvc8qt56lpjhadamqszy"
   },
   "outputs": [],
   "source": [
    "#!g1.1\n",
    "import warnings\n",
    "warnings.filterwarnings(\"ignore\")"
   ]
  },
  {
   "cell_type": "code",
   "execution_count": null,
   "metadata": {},
   "outputs": [],
   "source": []
  },
  {
   "cell_type": "code",
   "execution_count": 46,
   "metadata": {
    "cellId": "31ob1a13xajmcaeeun1bx"
   },
   "outputs": [
    {
     "name": "stderr",
     "output_type": "stream",
     "text": [
      "\u001b[34m\u001b[1mwandb\u001b[0m: You can find your API key in your browser here: https://wandb.ai/authorize\n"
     ]
    },
    {
     "name": "stdin",
     "output_type": "stream",
     "text": [
      "\u001b[34m\u001b[1mwandb\u001b[0m: Paste an API key from your profile and hit enter, or press ctrl+c to quit:  ········································\n"
     ]
    },
    {
     "name": "stderr",
     "output_type": "stream",
     "text": [
      "\u001b[34m\u001b[1mwandb\u001b[0m: Appending key for api.wandb.ai to your netrc file: /root/.netrc\n"
     ]
    },
    {
     "data": {
      "text/html": [
       "\n",
       "                    Syncing run <strong><a href=\"https://wandb.ai/timothyxp/kws/runs/e3nec91d\" target=\"_blank\">good-night-17</a></strong> to <a href=\"https://wandb.ai/timothyxp/kws\" target=\"_blank\">Weights & Biases</a> (<a href=\"https://docs.wandb.com/integrations/jupyter.html\" target=\"_blank\">docs</a>).<br/>\n",
       "\n",
       "                "
      ],
      "text/plain": [
       "<IPython.core.display.HTML object>"
      ]
     },
     "metadata": {},
     "output_type": "display_data"
    },
    {
     "data": {
      "text/html": [
       "<button onClick=\"this.nextSibling.style.display='block';this.style.display='none';\">Display W&B run</button><iframe src=\"https://wandb.ai/timothyxp/kws/runs/e3nec91d?jupyter=true\" style=\"border:none;width:100%;height:420px;display:none;\"></iframe>"
      ],
      "text/plain": [
       "<wandb.sdk.wandb_run.Run at 0x7f0676aaf390>"
      ]
     },
     "execution_count": 46,
     "metadata": {},
     "output_type": "execute_result"
    }
   ],
   "source": [
    "#!g1.1\n",
    "import wandb\n",
    "\n",
    "wandb.init(project='kws')"
   ]
  },
  {
   "cell_type": "code",
   "execution_count": 25,
   "metadata": {
    "cellId": "sn26nepfpena5602cmdj4e"
   },
   "outputs": [],
   "source": [
    "#!g1.1\n"
   ]
  },
  {
   "cell_type": "code",
   "execution_count": 26,
   "metadata": {
    "cellId": "72f55b98-9aed-4454-8417-fa09a3d42977",
    "colab": {
     "base_uri": "https://localhost:8080/",
     "height": 297
    },
    "id": "32oooz4lqUYo",
    "outputId": "c4fdfc31-03fa-4540-9c03-4d72c6bdf714"
   },
   "outputs": [
    {
     "data": {
      "image/png": "[encoded data removed]",
      "text/plain": [
       "<Figure size 432x288 with 1 Axes>"
      ]
     },
     "metadata": {
      "needs_background": "light"
     },
     "output_type": "display_data"
    },
    {
     "name": "stdout",
     "output_type": "stream",
     "text": [
      "END OF EPOCH 39\n"
     ]
    }
   ],
   "source": [
    "#!g1.1\n",
    "\n",
    "# TRAIN\n",
    "history = defaultdict(list)\n",
    "for n in range(TaskConfig.num_epochs):\n",
    "\n",
    "    train_epoch(model, opt, train_loader,\n",
    "                melspec_train, TaskConfig.device)\n",
    "\n",
    "    au_fa_fr = validation(model, val_loader,\n",
    "                          melspec_val, TaskConfig.device, wandb=wandb)\n",
    "    history['val_metric'].append(au_fa_fr)\n",
    "\n",
    "    torch.save({\n",
    "        'model_state_dict': model.state_dict(),\n",
    "    }, f'base_model_{n}.pth')\n",
    "    \n",
    "    clear_output()\n",
    "    plt.plot(history['val_metric'])\n",
    "    plt.ylabel('Metric')\n",
    "    plt.xlabel('Epoch')\n",
    "    plt.grid()\n",
    "    plt.show()\n",
    "\n",
    "    print('END OF EPOCH', n)"
   ]
  },
  {
   "cell_type": "code",
   "execution_count": 399,
   "metadata": {
    "cellId": "h6fqovpq8ose1uc14yd6bq",
    "tags": []
   },
   "outputs": [
    {
     "name": "stderr",
     "output_type": "stream",
     "text": [
      "102it [00:00, 105.80it/s]\n"
     ]
    },
    {
     "data": {
      "text/plain": [
       "1.8851482808763522e-05"
      ]
     },
     "execution_count": 399,
     "metadata": {},
     "output_type": "execute_result"
    }
   ],
   "source": [
    "#!g1.1\n",
    "validation(\n",
    "    model, val_loader,\n",
    "    melspec_val, TaskConfig.device\n",
    ")"
   ]
  },
  {
   "cell_type": "code",
   "execution_count": null,
   "metadata": {
    "cellId": "6g07fq6rujbqbouv6oj4a7"
   },
   "outputs": [],
   "source": [
    "#!g1.1\n"
   ]
  },
  {
   "cell_type": "code",
   "execution_count": null,
   "metadata": {
    "cellId": "x4eot3413c7ks0rrxtjt"
   },
   "outputs": [],
   "source": [
    "#!g1.1\n"
   ]
  },
  {
   "cell_type": "code",
   "execution_count": 47,
   "metadata": {
    "cellId": "ke46jrldyxasbd9k2b54x"
   },
   "outputs": [
    {
     "name": "stdout",
     "output_type": "stream",
     "text": [
      "sepconv prarams 808\n",
      "gru prarams 65280\n",
      "attn prarams 4225\n",
      "Head prarams 130\n"
     ]
    }
   ],
   "source": [
    "#!g1.1\n",
    "def count_parameters(model):\n",
    "    model_parameters = filter(lambda p: p.requires_grad, model.parameters())\n",
    "    return sum([np.prod(p.size()) for p in model_parameters])\n",
    "\n",
    "print(\"sepconv prarams\", count_parameters(model.conv))\n",
    "print(\"gru prarams\", count_parameters(model.gru))\n",
    "print(\"attn prarams\", count_parameters(model.attention))\n",
    "print(\"Head prarams\", count_parameters(model.classifier))"
   ]
  },
  {
   "cell_type": "code",
   "execution_count": 397,
   "metadata": {
    "cellId": "uq7k1zcjxv1ub3crsc4u3"
   },
   "outputs": [
    {
     "data": {
      "text/plain": [
       "<All keys matched successfully>"
      ]
     },
     "execution_count": 397,
     "metadata": {},
     "output_type": "execute_result"
    }
   ],
   "source": [
    "#!g1.1\n",
    "model = model.cuda()\n",
    "model.load_state_dict(torch.load(\"base_model_39.pth\")['model_state_dict'])"
   ]
  },
  {
   "cell_type": "code",
   "execution_count": 266,
   "metadata": {
    "cellId": "2hoklpth17zssyoblyu5sr"
   },
   "outputs": [],
   "source": [
    "#!g1.1\n"
   ]
  },
  {
   "cell_type": "markdown",
   "metadata": {
    "cellId": "hm7j03sjythuyg0d6qcx3p"
   },
   "source": [
    "# Streaming"
   ]
  },
  {
   "cell_type": "code",
   "execution_count": 523,
   "metadata": {},
   "outputs": [
    {
     "data": {
      "text/plain": [
       "torch.Size([1, 40, 1010])"
      ]
     },
     "execution_count": 523,
     "metadata": {},
     "output_type": "execute_result"
    }
   ],
   "source": [
    "sample.shape"
   ]
  },
  {
   "cell_type": "code",
   "execution_count": 524,
   "metadata": {
    "cellId": "alc86irqsfe6eqviud5h",
    "tags": []
   },
   "outputs": [
    {
     "data": {
      "text/plain": [
       "[0, 0, 1, 0, 0, 0, 0, 0, 0, 0]"
      ]
     },
     "execution_count": 524,
     "metadata": {},
     "output_type": "execute_result"
    }
   ],
   "source": [
    "#!g1.1\n",
    "\n",
    "samples = []\n",
    "labels = []\n",
    "\n",
    "for i in range(12485, 12495):\n",
    "    sample = val_set[i]\n",
    "    #print(sample['keywors'])\n",
    "  #  print(sample['utt'].shape)\n",
    "    sample, label = Collator()([sample])\n",
    "    labels.append(label.item())\n",
    "    sample = melspec_val(sample.to(TaskConfig.device))\n",
    "    \n",
    "    samples.append(sample)\n",
    "    \n",
    "sample = torch.cat(samples, dim=-1)\n",
    "labels"
   ]
  },
  {
   "cell_type": "code",
   "execution_count": null,
   "metadata": {},
   "outputs": [],
   "source": []
  },
  {
   "cell_type": "code",
   "execution_count": 525,
   "metadata": {
    "cellId": "wz07ujdaludjjuw0tvg6dp"
   },
   "outputs": [],
   "source": [
    "#!g1.1\n",
    "\n",
    "class KWSDecoder:\n",
    "    def __init__(self, model, config, window_size=60):\n",
    "        self.model = model\n",
    "        self.window_size = window_size\n",
    "\n",
    "        self.receptive_field = config.kernel_size[1]\n",
    "\n",
    "        self.reset()\n",
    "    \n",
    "    def reset(self):\n",
    "        self.buffer = None\n",
    "        self.attn_buffer = []\n",
    "        self.gru_outputs = []\n",
    "        self.probas = torch.zeros((1,)).to(TaskConfig.device)\n",
    "        self.hidden = self.init_hidden()\n",
    "        \n",
    "    def init_hidden(self):\n",
    "        return torch.zeros(TaskConfig.gru_num_layers, 1, TaskConfig.hidden_size).to(TaskConfig.device)\n",
    "         \n",
    "        input = input.unsqueeze(dim=1)\n",
    "        # batch_size, n_channels, mels, len\n",
    "        \n",
    "        conv_output = self.conv(input).transpose(-1, -2)\n",
    "        # batch_size, len, hidden\n",
    "        \n",
    "        gru_output, _ = self.gru(conv_output)\n",
    "        # batch_size, len, hidden\n",
    "        \n",
    "        contex_vector = self.attention(gru_output)\n",
    "        # batch_size, hidden\n",
    "        \n",
    "        output = self.classifier(contex_vector)\n",
    "        # batch_size, proba\n",
    "        \n",
    "        return output\n",
    "\n",
    "    @torch.no_grad()\n",
    "    def decode(self, x):\n",
    "        x = x.unsqueeze(dim=1)\n",
    "        \n",
    "        if self.buffer is None:\n",
    "            self.buffer = x\n",
    "        else:\n",
    "            self.buffer = torch.cat((self.buffer, x), dim=-1)\n",
    "            \n",
    "        if self.buffer.shape[-1] < self.receptive_field:\n",
    "            return\n",
    "            \n",
    "        self.buffer = self.buffer[:, :, :, -self.receptive_field:]\n",
    "        print(\"buffer\", self.buffer.shape)\n",
    "                    \n",
    "        output = self.model.conv(self.buffer).transpose(-1, -2)\n",
    "        print(\"conv output\", output.shape)\n",
    "        \n",
    "        output, hidden = self.model.gru(output, self.hidden)\n",
    "        # output (1, 1, hidden_size)\n",
    "        self.hidden = hidden\n",
    "        print(\"gru out\", output.shape)\n",
    "        \n",
    "        self.gru_outputs.append(output)\n",
    "        \n",
    "        if len(self.gru_outputs) > self.window_size:\n",
    "            self.gru_outputs = self.gru_outputs[1:]\n",
    "        \n",
    "        output = torch.cat(self.gru_outputs, dim=1)\n",
    "        \n",
    "        print(\"attn input\", output.shape)\n",
    "        \n",
    "        contex_vector = self.model.attention(output)\n",
    "        print(\"attn out\", contex_vector.shape)\n",
    "        \n",
    "        proba = self.model.classifier(contex_vector)\n",
    "        print(\"proba\", proba.shape)\n",
    "        proba = F.softmax(proba)[0][1]\n",
    "        \n",
    "        self.probas = torch.cat((self.probas, proba.unsqueeze(0)))\n",
    "\n"
   ]
  },
  {
   "cell_type": "code",
   "execution_count": 526,
   "metadata": {
    "cellId": "l31akrxw75hi7u9f7rgk9s"
   },
   "outputs": [],
   "source": [
    "#!g1.1\n",
    "memory_size = 11\n",
    "decoder = KWSDecoder(model, config, window_size=memory_size)"
   ]
  },
  {
   "cell_type": "code",
   "execution_count": 527,
   "metadata": {
    "cellId": "n867rseb48ehf6nfziwshn",
    "collapsed": true,
    "jupyter": {
     "outputs_hidden": true
    },
    "tags": []
   },
   "outputs": [
    {
     "name": "stdout",
     "output_type": "stream",
     "text": [
      "buffer torch.Size([1, 1, 40, 20])\n",
      "conv output torch.Size([1, 1, 144])\n",
      "gru out torch.Size([1, 1, 64])\n",
      "attn input torch.Size([1, 1, 64])\n",
      "attn out torch.Size([1, 64])\n",
      "proba torch.Size([1, 2])\n",
      "buffer torch.Size([1, 1, 40, 20])\n",
      "conv output torch.Size([1, 1, 144])\n",
      "gru out torch.Size([1, 1, 64])\n",
      "attn input torch.Size([1, 2, 64])\n",
      "attn out torch.Size([1, 64])\n",
      "proba torch.Size([1, 2])\n",
      "buffer torch.Size([1, 1, 40, 20])\n",
      "conv output torch.Size([1, 1, 144])\n",
      "gru out torch.Size([1, 1, 64])\n",
      "attn input torch.Size([1, 3, 64])\n",
      "attn out torch.Size([1, 64])\n",
      "proba torch.Size([1, 2])\n",
      "buffer torch.Size([1, 1, 40, 20])\n",
      "conv output torch.Size([1, 1, 144])\n",
      "gru out torch.Size([1, 1, 64])\n",
      "attn input torch.Size([1, 4, 64])\n",
      "attn out torch.Size([1, 64])\n",
      "proba torch.Size([1, 2])\n",
      "buffer torch.Size([1, 1, 40, 20])\n",
      "conv output torch.Size([1, 1, 144])\n",
      "gru out torch.Size([1, 1, 64])\n",
      "attn input torch.Size([1, 5, 64])\n",
      "attn out torch.Size([1, 64])\n",
      "proba torch.Size([1, 2])\n",
      "buffer torch.Size([1, 1, 40, 20])\n",
      "conv output torch.Size([1, 1, 144])\n",
      "gru out torch.Size([1, 1, 64])\n",
      "attn input torch.Size([1, 6, 64])\n",
      "attn out torch.Size([1, 64])\n",
      "proba torch.Size([1, 2])\n",
      "buffer torch.Size([1, 1, 40, 20])\n",
      "conv output torch.Size([1, 1, 144])\n",
      "gru out torch.Size([1, 1, 64])\n",
      "attn input torch.Size([1, 7, 64])\n",
      "attn out torch.Size([1, 64])\n",
      "proba torch.Size([1, 2])\n",
      "buffer torch.Size([1, 1, 40, 20])\n",
      "conv output torch.Size([1, 1, 144])\n",
      "gru out torch.Size([1, 1, 64])\n",
      "attn input torch.Size([1, 8, 64])\n",
      "attn out torch.Size([1, 64])\n",
      "proba torch.Size([1, 2])\n",
      "buffer torch.Size([1, 1, 40, 20])\n",
      "conv output torch.Size([1, 1, 144])\n",
      "gru out torch.Size([1, 1, 64])\n",
      "attn input torch.Size([1, 9, 64])\n",
      "attn out torch.Size([1, 64])\n",
      "proba torch.Size([1, 2])\n",
      "buffer torch.Size([1, 1, 40, 20])\n",
      "conv output torch.Size([1, 1, 144])\n",
      "gru out torch.Size([1, 1, 64])\n",
      "attn input torch.Size([1, 10, 64])\n",
      "attn out torch.Size([1, 64])\n",
      "proba torch.Size([1, 2])\n",
      "buffer torch.Size([1, 1, 40, 20])\n",
      "conv output torch.Size([1, 1, 144])\n",
      "gru out torch.Size([1, 1, 64])\n",
      "attn input torch.Size([1, 11, 64])\n",
      "attn out torch.Size([1, 64])\n",
      "proba torch.Size([1, 2])\n",
      "buffer torch.Size([1, 1, 40, 20])\n",
      "conv output torch.Size([1, 1, 144])\n",
      "gru out torch.Size([1, 1, 64])\n",
      "attn input torch.Size([1, 11, 64])\n",
      "attn out torch.Size([1, 64])\n",
      "proba torch.Size([1, 2])\n",
      "buffer torch.Size([1, 1, 40, 20])\n",
      "conv output torch.Size([1, 1, 144])\n",
      "gru out torch.Size([1, 1, 64])\n",
      "attn input torch.Size([1, 11, 64])\n",
      "attn out torch.Size([1, 64])\n",
      "proba torch.Size([1, 2])\n",
      "buffer torch.Size([1, 1, 40, 20])\n",
      "conv output torch.Size([1, 1, 144])\n",
      "gru out torch.Size([1, 1, 64])\n",
      "attn input torch.Size([1, 11, 64])\n",
      "attn out torch.Size([1, 64])\n",
      "proba torch.Size([1, 2])\n",
      "buffer torch.Size([1, 1, 40, 20])\n",
      "conv output torch.Size([1, 1, 144])\n",
      "gru out torch.Size([1, 1, 64])\n",
      "attn input torch.Size([1, 11, 64])\n",
      "attn out torch.Size([1, 64])\n",
      "proba torch.Size([1, 2])\n",
      "buffer torch.Size([1, 1, 40, 20])\n",
      "conv output torch.Size([1, 1, 144])\n",
      "gru out torch.Size([1, 1, 64])\n",
      "attn input torch.Size([1, 11, 64])\n",
      "attn out torch.Size([1, 64])\n",
      "proba torch.Size([1, 2])\n",
      "buffer torch.Size([1, 1, 40, 20])\n",
      "conv output torch.Size([1, 1, 144])\n",
      "gru out torch.Size([1, 1, 64])\n",
      "attn input torch.Size([1, 11, 64])\n",
      "attn out torch.Size([1, 64])\n",
      "proba torch.Size([1, 2])\n",
      "buffer torch.Size([1, 1, 40, 20])\n",
      "conv output torch.Size([1, 1, 144])\n",
      "gru out torch.Size([1, 1, 64])\n",
      "attn input torch.Size([1, 11, 64])\n",
      "attn out torch.Size([1, 64])\n",
      "proba torch.Size([1, 2])\n",
      "buffer torch.Size([1, 1, 40, 20])\n",
      "conv output torch.Size([1, 1, 144])\n",
      "gru out torch.Size([1, 1, 64])\n",
      "attn input torch.Size([1, 11, 64])\n",
      "attn out torch.Size([1, 64])\n",
      "proba torch.Size([1, 2])\n",
      "buffer torch.Size([1, 1, 40, 20])\n",
      "conv output torch.Size([1, 1, 144])\n",
      "gru out torch.Size([1, 1, 64])\n",
      "attn input torch.Size([1, 11, 64])\n",
      "attn out torch.Size([1, 64])\n",
      "proba torch.Size([1, 2])\n",
      "buffer torch.Size([1, 1, 40, 20])\n",
      "conv output torch.Size([1, 1, 144])\n",
      "gru out torch.Size([1, 1, 64])\n",
      "attn input torch.Size([1, 11, 64])\n",
      "attn out torch.Size([1, 64])\n",
      "proba torch.Size([1, 2])\n",
      "buffer torch.Size([1, 1, 40, 20])\n",
      "conv output torch.Size([1, 1, 144])\n",
      "gru out torch.Size([1, 1, 64])\n",
      "attn input torch.Size([1, 11, 64])\n",
      "attn out torch.Size([1, 64])\n",
      "proba torch.Size([1, 2])\n",
      "buffer torch.Size([1, 1, 40, 20])\n",
      "conv output torch.Size([1, 1, 144])\n",
      "gru out torch.Size([1, 1, 64])\n",
      "attn input torch.Size([1, 11, 64])\n",
      "attn out torch.Size([1, 64])\n",
      "proba torch.Size([1, 2])\n",
      "buffer torch.Size([1, 1, 40, 20])\n",
      "conv output torch.Size([1, 1, 144])\n",
      "gru out torch.Size([1, 1, 64])\n",
      "attn input torch.Size([1, 11, 64])\n",
      "attn out torch.Size([1, 64])\n",
      "proba torch.Size([1, 2])\n",
      "buffer torch.Size([1, 1, 40, 20])\n",
      "conv output torch.Size([1, 1, 144])\n",
      "gru out torch.Size([1, 1, 64])\n",
      "attn input torch.Size([1, 11, 64])\n",
      "attn out torch.Size([1, 64])\n",
      "proba torch.Size([1, 2])\n",
      "buffer torch.Size([1, 1, 40, 20])\n",
      "conv output torch.Size([1, 1, 144])\n",
      "gru out torch.Size([1, 1, 64])\n",
      "attn input torch.Size([1, 11, 64])\n",
      "attn out torch.Size([1, 64])\n",
      "proba torch.Size([1, 2])\n",
      "buffer torch.Size([1, 1, 40, 20])\n",
      "conv output torch.Size([1, 1, 144])\n",
      "gru out torch.Size([1, 1, 64])\n",
      "attn input torch.Size([1, 11, 64])\n",
      "attn out torch.Size([1, 64])\n",
      "proba torch.Size([1, 2])\n",
      "buffer torch.Size([1, 1, 40, 20])\n",
      "conv output torch.Size([1, 1, 144])\n",
      "gru out torch.Size([1, 1, 64])\n",
      "attn input torch.Size([1, 11, 64])\n",
      "attn out torch.Size([1, 64])\n",
      "proba torch.Size([1, 2])\n",
      "buffer torch.Size([1, 1, 40, 20])\n",
      "conv output torch.Size([1, 1, 144])\n",
      "gru out torch.Size([1, 1, 64])\n",
      "attn input torch.Size([1, 11, 64])\n",
      "attn out torch.Size([1, 64])\n",
      "proba torch.Size([1, 2])\n",
      "buffer torch.Size([1, 1, 40, 20])\n",
      "conv output torch.Size([1, 1, 144])\n",
      "gru out torch.Size([1, 1, 64])\n",
      "attn input torch.Size([1, 11, 64])\n",
      "attn out torch.Size([1, 64])\n",
      "proba torch.Size([1, 2])\n",
      "buffer torch.Size([1, 1, 40, 20])\n",
      "conv output torch.Size([1, 1, 144])\n",
      "gru out torch.Size([1, 1, 64])\n",
      "attn input torch.Size([1, 11, 64])\n",
      "attn out torch.Size([1, 64])\n",
      "proba torch.Size([1, 2])\n",
      "buffer torch.Size([1, 1, 40, 20])\n",
      "conv output torch.Size([1, 1, 144])\n",
      "gru out torch.Size([1, 1, 64])\n",
      "attn input torch.Size([1, 11, 64])\n",
      "attn out torch.Size([1, 64])\n",
      "proba torch.Size([1, 2])\n",
      "buffer torch.Size([1, 1, 40, 20])\n",
      "conv output torch.Size([1, 1, 144])\n",
      "gru out torch.Size([1, 1, 64])\n",
      "attn input torch.Size([1, 11, 64])\n",
      "attn out torch.Size([1, 64])\n",
      "proba torch.Size([1, 2])\n",
      "buffer torch.Size([1, 1, 40, 20])\n",
      "conv output torch.Size([1, 1, 144])\n",
      "gru out torch.Size([1, 1, 64])\n",
      "attn input torch.Size([1, 11, 64])\n",
      "attn out torch.Size([1, 64])\n",
      "proba torch.Size([1, 2])\n",
      "buffer torch.Size([1, 1, 40, 20])\n",
      "conv output torch.Size([1, 1, 144])\n",
      "gru out torch.Size([1, 1, 64])\n",
      "attn input torch.Size([1, 11, 64])\n",
      "attn out torch.Size([1, 64])\n",
      "proba torch.Size([1, 2])\n",
      "buffer torch.Size([1, 1, 40, 20])\n",
      "conv output torch.Size([1, 1, 144])\n",
      "gru out torch.Size([1, 1, 64])\n",
      "attn input torch.Size([1, 11, 64])\n",
      "attn out torch.Size([1, 64])\n",
      "proba torch.Size([1, 2])\n",
      "buffer torch.Size([1, 1, 40, 20])\n",
      "conv output torch.Size([1, 1, 144])\n",
      "gru out torch.Size([1, 1, 64])\n",
      "attn input torch.Size([1, 11, 64])\n",
      "attn out torch.Size([1, 64])\n",
      "proba torch.Size([1, 2])\n",
      "buffer torch.Size([1, 1, 40, 20])\n",
      "conv output torch.Size([1, 1, 144])\n",
      "gru out torch.Size([1, 1, 64])\n",
      "attn input torch.Size([1, 11, 64])\n",
      "attn out torch.Size([1, 64])\n",
      "proba torch.Size([1, 2])\n",
      "buffer torch.Size([1, 1, 40, 20])\n",
      "conv output torch.Size([1, 1, 144])\n",
      "gru out torch.Size([1, 1, 64])\n",
      "attn input torch.Size([1, 11, 64])\n",
      "attn out torch.Size([1, 64])\n",
      "proba torch.Size([1, 2])\n",
      "buffer torch.Size([1, 1, 40, 20])\n",
      "conv output torch.Size([1, 1, 144])\n",
      "gru out torch.Size([1, 1, 64])\n",
      "attn input torch.Size([1, 11, 64])\n",
      "attn out torch.Size([1, 64])\n",
      "proba torch.Size([1, 2])\n",
      "buffer torch.Size([1, 1, 40, 20])\n",
      "conv output torch.Size([1, 1, 144])\n",
      "gru out torch.Size([1, 1, 64])\n",
      "attn input torch.Size([1, 11, 64])\n",
      "attn out torch.Size([1, 64])\n",
      "proba torch.Size([1, 2])\n",
      "buffer torch.Size([1, 1, 40, 20])\n",
      "conv output torch.Size([1, 1, 144])\n",
      "gru out torch.Size([1, 1, 64])\n",
      "attn input torch.Size([1, 11, 64])\n",
      "attn out torch.Size([1, 64])\n",
      "proba torch.Size([1, 2])\n",
      "buffer torch.Size([1, 1, 40, 20])\n",
      "conv output torch.Size([1, 1, 144])\n",
      "gru out torch.Size([1, 1, 64])\n",
      "attn input torch.Size([1, 11, 64])\n",
      "attn out torch.Size([1, 64])\n",
      "proba torch.Size([1, 2])\n",
      "buffer torch.Size([1, 1, 40, 20])\n",
      "conv output torch.Size([1, 1, 144])\n",
      "gru out torch.Size([1, 1, 64])\n",
      "attn input torch.Size([1, 11, 64])\n",
      "attn out torch.Size([1, 64])\n",
      "proba torch.Size([1, 2])\n",
      "buffer torch.Size([1, 1, 40, 20])\n",
      "conv output torch.Size([1, 1, 144])\n",
      "gru out torch.Size([1, 1, 64])\n",
      "attn input torch.Size([1, 11, 64])\n",
      "attn out torch.Size([1, 64])\n",
      "proba torch.Size([1, 2])\n",
      "buffer torch.Size([1, 1, 40, 20])\n",
      "conv output torch.Size([1, 1, 144])\n",
      "gru out torch.Size([1, 1, 64])\n",
      "attn input torch.Size([1, 11, 64])\n",
      "attn out torch.Size([1, 64])\n",
      "proba torch.Size([1, 2])\n",
      "buffer torch.Size([1, 1, 40, 20])\n",
      "conv output torch.Size([1, 1, 144])\n",
      "gru out torch.Size([1, 1, 64])\n",
      "attn input torch.Size([1, 11, 64])\n",
      "attn out torch.Size([1, 64])\n",
      "proba torch.Size([1, 2])\n",
      "buffer torch.Size([1, 1, 40, 20])\n",
      "conv output torch.Size([1, 1, 144])\n",
      "gru out torch.Size([1, 1, 64])\n",
      "attn input torch.Size([1, 11, 64])\n",
      "attn out torch.Size([1, 64])\n",
      "proba torch.Size([1, 2])\n",
      "buffer torch.Size([1, 1, 40, 20])\n",
      "conv output torch.Size([1, 1, 144])\n",
      "gru out torch.Size([1, 1, 64])\n",
      "attn input torch.Size([1, 11, 64])\n",
      "attn out torch.Size([1, 64])\n",
      "proba torch.Size([1, 2])\n",
      "buffer torch.Size([1, 1, 40, 20])\n",
      "conv output torch.Size([1, 1, 144])\n",
      "gru out torch.Size([1, 1, 64])\n",
      "attn input torch.Size([1, 11, 64])\n",
      "attn out torch.Size([1, 64])\n",
      "proba torch.Size([1, 2])\n",
      "buffer torch.Size([1, 1, 40, 20])\n",
      "conv output torch.Size([1, 1, 144])\n",
      "gru out torch.Size([1, 1, 64])\n",
      "attn input torch.Size([1, 11, 64])\n",
      "attn out torch.Size([1, 64])\n",
      "proba torch.Size([1, 2])\n",
      "buffer torch.Size([1, 1, 40, 20])\n",
      "conv output torch.Size([1, 1, 144])\n",
      "gru out torch.Size([1, 1, 64])\n",
      "attn input torch.Size([1, 11, 64])\n",
      "attn out torch.Size([1, 64])\n",
      "proba torch.Size([1, 2])\n",
      "buffer torch.Size([1, 1, 40, 20])\n",
      "conv output torch.Size([1, 1, 144])\n",
      "gru out torch.Size([1, 1, 64])\n",
      "attn input torch.Size([1, 11, 64])\n",
      "attn out torch.Size([1, 64])\n",
      "proba torch.Size([1, 2])\n",
      "buffer torch.Size([1, 1, 40, 20])\n",
      "conv output torch.Size([1, 1, 144])\n",
      "gru out torch.Size([1, 1, 64])\n",
      "attn input torch.Size([1, 11, 64])\n",
      "attn out torch.Size([1, 64])\n",
      "proba torch.Size([1, 2])\n",
      "buffer torch.Size([1, 1, 40, 20])\n",
      "conv output torch.Size([1, 1, 144])\n",
      "gru out torch.Size([1, 1, 64])\n",
      "attn input torch.Size([1, 11, 64])\n",
      "attn out torch.Size([1, 64])\n",
      "proba torch.Size([1, 2])\n",
      "buffer torch.Size([1, 1, 40, 20])\n",
      "conv output torch.Size([1, 1, 144])\n",
      "gru out torch.Size([1, 1, 64])\n",
      "attn input torch.Size([1, 11, 64])\n",
      "attn out torch.Size([1, 64])\n",
      "proba torch.Size([1, 2])\n",
      "buffer torch.Size([1, 1, 40, 20])\n",
      "conv output torch.Size([1, 1, 144])\n",
      "gru out torch.Size([1, 1, 64])\n",
      "attn input torch.Size([1, 11, 64])\n",
      "attn out torch.Size([1, 64])\n",
      "proba torch.Size([1, 2])\n",
      "buffer torch.Size([1, 1, 40, 20])\n",
      "conv output torch.Size([1, 1, 144])\n",
      "gru out torch.Size([1, 1, 64])\n",
      "attn input torch.Size([1, 11, 64])\n",
      "attn out torch.Size([1, 64])\n",
      "proba torch.Size([1, 2])\n",
      "buffer torch.Size([1, 1, 40, 20])\n",
      "conv output torch.Size([1, 1, 144])\n",
      "gru out torch.Size([1, 1, 64])\n",
      "attn input torch.Size([1, 11, 64])\n",
      "attn out torch.Size([1, 64])\n",
      "proba torch.Size([1, 2])\n",
      "buffer torch.Size([1, 1, 40, 20])\n",
      "conv output torch.Size([1, 1, 144])\n",
      "gru out torch.Size([1, 1, 64])\n",
      "attn input torch.Size([1, 11, 64])\n",
      "attn out torch.Size([1, 64])\n",
      "proba torch.Size([1, 2])\n",
      "buffer torch.Size([1, 1, 40, 20])\n",
      "conv output torch.Size([1, 1, 144])\n",
      "gru out torch.Size([1, 1, 64])\n",
      "attn input torch.Size([1, 11, 64])\n",
      "attn out torch.Size([1, 64])\n",
      "proba torch.Size([1, 2])\n",
      "buffer torch.Size([1, 1, 40, 20])\n",
      "conv output torch.Size([1, 1, 144])\n",
      "gru out torch.Size([1, 1, 64])\n",
      "attn input torch.Size([1, 11, 64])\n",
      "attn out torch.Size([1, 64])\n",
      "proba torch.Size([1, 2])\n",
      "buffer torch.Size([1, 1, 40, 20])\n",
      "conv output torch.Size([1, 1, 144])\n",
      "gru out torch.Size([1, 1, 64])\n",
      "attn input torch.Size([1, 11, 64])\n",
      "attn out torch.Size([1, 64])\n",
      "proba torch.Size([1, 2])\n",
      "buffer torch.Size([1, 1, 40, 20])\n",
      "conv output torch.Size([1, 1, 144])\n",
      "gru out torch.Size([1, 1, 64])\n",
      "attn input torch.Size([1, 11, 64])\n",
      "attn out torch.Size([1, 64])\n",
      "proba torch.Size([1, 2])\n",
      "buffer torch.Size([1, 1, 40, 20])\n",
      "conv output torch.Size([1, 1, 144])\n",
      "gru out torch.Size([1, 1, 64])\n",
      "attn input torch.Size([1, 11, 64])\n",
      "attn out torch.Size([1, 64])\n",
      "proba torch.Size([1, 2])\n",
      "buffer torch.Size([1, 1, 40, 20])\n",
      "conv output torch.Size([1, 1, 144])\n",
      "gru out torch.Size([1, 1, 64])\n",
      "attn input torch.Size([1, 11, 64])\n",
      "attn out torch.Size([1, 64])\n",
      "proba torch.Size([1, 2])\n",
      "buffer torch.Size([1, 1, 40, 20])\n",
      "conv output torch.Size([1, 1, 144])\n",
      "gru out torch.Size([1, 1, 64])\n",
      "attn input torch.Size([1, 11, 64])\n",
      "attn out torch.Size([1, 64])\n",
      "proba torch.Size([1, 2])\n",
      "buffer torch.Size([1, 1, 40, 20])\n",
      "conv output torch.Size([1, 1, 144])\n",
      "gru out torch.Size([1, 1, 64])\n",
      "attn input torch.Size([1, 11, 64])\n",
      "attn out torch.Size([1, 64])\n",
      "proba torch.Size([1, 2])\n",
      "buffer torch.Size([1, 1, 40, 20])\n",
      "conv output torch.Size([1, 1, 144])\n",
      "gru out torch.Size([1, 1, 64])\n",
      "attn input torch.Size([1, 11, 64])\n",
      "attn out torch.Size([1, 64])\n",
      "proba torch.Size([1, 2])\n",
      "buffer torch.Size([1, 1, 40, 20])\n",
      "conv output torch.Size([1, 1, 144])\n",
      "gru out torch.Size([1, 1, 64])\n",
      "attn input torch.Size([1, 11, 64])\n",
      "attn out torch.Size([1, 64])\n",
      "proba torch.Size([1, 2])\n",
      "buffer torch.Size([1, 1, 40, 20])\n",
      "conv output torch.Size([1, 1, 144])\n",
      "gru out torch.Size([1, 1, 64])\n",
      "attn input torch.Size([1, 11, 64])\n",
      "attn out torch.Size([1, 64])\n",
      "proba torch.Size([1, 2])\n",
      "buffer torch.Size([1, 1, 40, 20])\n",
      "conv output torch.Size([1, 1, 144])\n",
      "gru out torch.Size([1, 1, 64])\n",
      "attn input torch.Size([1, 11, 64])\n",
      "attn out torch.Size([1, 64])\n",
      "proba torch.Size([1, 2])\n",
      "buffer torch.Size([1, 1, 40, 20])\n",
      "conv output torch.Size([1, 1, 144])\n",
      "gru out torch.Size([1, 1, 64])\n",
      "attn input torch.Size([1, 11, 64])\n",
      "attn out torch.Size([1, 64])\n",
      "proba torch.Size([1, 2])\n",
      "buffer torch.Size([1, 1, 40, 20])\n",
      "conv output torch.Size([1, 1, 144])\n",
      "gru out torch.Size([1, 1, 64])\n",
      "attn input torch.Size([1, 11, 64])\n",
      "attn out torch.Size([1, 64])\n",
      "proba torch.Size([1, 2])\n",
      "buffer torch.Size([1, 1, 40, 20])\n",
      "conv output torch.Size([1, 1, 144])\n",
      "gru out torch.Size([1, 1, 64])\n",
      "attn input torch.Size([1, 11, 64])\n",
      "attn out torch.Size([1, 64])\n",
      "proba torch.Size([1, 2])\n",
      "buffer torch.Size([1, 1, 40, 20])\n",
      "conv output torch.Size([1, 1, 144])\n",
      "gru out torch.Size([1, 1, 64])\n",
      "attn input torch.Size([1, 11, 64])\n",
      "attn out torch.Size([1, 64])\n",
      "proba torch.Size([1, 2])\n",
      "buffer torch.Size([1, 1, 40, 20])\n",
      "conv output torch.Size([1, 1, 144])\n",
      "gru out torch.Size([1, 1, 64])\n",
      "attn input torch.Size([1, 11, 64])\n",
      "attn out torch.Size([1, 64])\n",
      "proba torch.Size([1, 2])\n",
      "buffer torch.Size([1, 1, 40, 20])\n",
      "conv output torch.Size([1, 1, 144])\n",
      "gru out torch.Size([1, 1, 64])\n",
      "attn input torch.Size([1, 11, 64])\n",
      "attn out torch.Size([1, 64])\n",
      "proba torch.Size([1, 2])\n",
      "buffer torch.Size([1, 1, 40, 20])\n",
      "conv output torch.Size([1, 1, 144])\n",
      "gru out torch.Size([1, 1, 64])\n",
      "attn input torch.Size([1, 11, 64])\n",
      "attn out torch.Size([1, 64])\n",
      "proba torch.Size([1, 2])\n",
      "buffer torch.Size([1, 1, 40, 20])\n",
      "conv output torch.Size([1, 1, 144])\n",
      "gru out torch.Size([1, 1, 64])\n",
      "attn input torch.Size([1, 11, 64])\n",
      "attn out torch.Size([1, 64])\n",
      "proba torch.Size([1, 2])\n",
      "buffer torch.Size([1, 1, 40, 20])\n",
      "conv output torch.Size([1, 1, 144])\n",
      "gru out torch.Size([1, 1, 64])\n",
      "attn input torch.Size([1, 11, 64])\n",
      "attn out torch.Size([1, 64])\n",
      "proba torch.Size([1, 2])\n",
      "buffer torch.Size([1, 1, 40, 20])\n",
      "conv output torch.Size([1, 1, 144])\n",
      "gru out torch.Size([1, 1, 64])\n",
      "attn input torch.Size([1, 11, 64])\n",
      "attn out torch.Size([1, 64])\n",
      "proba torch.Size([1, 2])\n",
      "buffer torch.Size([1, 1, 40, 20])\n",
      "conv output torch.Size([1, 1, 144])\n",
      "gru out torch.Size([1, 1, 64])\n",
      "attn input torch.Size([1, 11, 64])\n",
      "attn out torch.Size([1, 64])\n",
      "proba torch.Size([1, 2])\n",
      "buffer torch.Size([1, 1, 40, 20])\n",
      "conv output torch.Size([1, 1, 144])\n",
      "gru out torch.Size([1, 1, 64])\n",
      "attn input torch.Size([1, 11, 64])\n",
      "attn out torch.Size([1, 64])\n",
      "proba torch.Size([1, 2])\n",
      "buffer torch.Size([1, 1, 40, 20])\n",
      "conv output torch.Size([1, 1, 144])\n",
      "gru out torch.Size([1, 1, 64])\n",
      "attn input torch.Size([1, 11, 64])\n",
      "attn out torch.Size([1, 64])\n",
      "proba torch.Size([1, 2])\n",
      "buffer torch.Size([1, 1, 40, 20])\n",
      "conv output torch.Size([1, 1, 144])\n",
      "gru out torch.Size([1, 1, 64])\n",
      "attn input torch.Size([1, 11, 64])\n",
      "attn out torch.Size([1, 64])\n",
      "proba torch.Size([1, 2])\n",
      "buffer torch.Size([1, 1, 40, 20])\n",
      "conv output torch.Size([1, 1, 144])\n",
      "gru out torch.Size([1, 1, 64])\n",
      "attn input torch.Size([1, 11, 64])\n",
      "attn out torch.Size([1, 64])\n",
      "proba torch.Size([1, 2])\n",
      "buffer torch.Size([1, 1, 40, 20])\n",
      "conv output torch.Size([1, 1, 144])\n",
      "gru out torch.Size([1, 1, 64])\n",
      "attn input torch.Size([1, 11, 64])\n",
      "attn out torch.Size([1, 64])\n",
      "proba torch.Size([1, 2])\n",
      "buffer torch.Size([1, 1, 40, 20])\n",
      "conv output torch.Size([1, 1, 144])\n",
      "gru out torch.Size([1, 1, 64])\n",
      "attn input torch.Size([1, 11, 64])\n",
      "attn out torch.Size([1, 64])\n",
      "proba torch.Size([1, 2])\n",
      "buffer torch.Size([1, 1, 40, 20])\n",
      "conv output torch.Size([1, 1, 144])\n",
      "gru out torch.Size([1, 1, 64])\n",
      "attn input torch.Size([1, 11, 64])\n",
      "attn out torch.Size([1, 64])\n",
      "proba torch.Size([1, 2])\n",
      "buffer torch.Size([1, 1, 40, 20])\n",
      "conv output torch.Size([1, 1, 144])\n",
      "gru out torch.Size([1, 1, 64])\n",
      "attn input torch.Size([1, 11, 64])\n",
      "attn out torch.Size([1, 64])\n",
      "proba torch.Size([1, 2])\n",
      "buffer torch.Size([1, 1, 40, 20])\n",
      "conv output torch.Size([1, 1, 144])\n",
      "gru out torch.Size([1, 1, 64])\n",
      "attn input torch.Size([1, 11, 64])\n",
      "attn out torch.Size([1, 64])\n",
      "proba torch.Size([1, 2])\n",
      "buffer torch.Size([1, 1, 40, 20])\n",
      "conv output torch.Size([1, 1, 144])\n",
      "gru out torch.Size([1, 1, 64])\n",
      "attn input torch.Size([1, 11, 64])\n",
      "attn out torch.Size([1, 64])\n",
      "proba torch.Size([1, 2])\n",
      "buffer torch.Size([1, 1, 40, 20])\n",
      "conv output torch.Size([1, 1, 144])\n",
      "gru out torch.Size([1, 1, 64])\n",
      "attn input torch.Size([1, 11, 64])\n",
      "attn out torch.Size([1, 64])\n",
      "proba torch.Size([1, 2])\n",
      "buffer torch.Size([1, 1, 40, 20])\n",
      "conv output torch.Size([1, 1, 144])\n",
      "gru out torch.Size([1, 1, 64])\n",
      "attn input torch.Size([1, 11, 64])\n",
      "attn out torch.Size([1, 64])\n",
      "proba torch.Size([1, 2])\n",
      "buffer torch.Size([1, 1, 40, 20])\n",
      "conv output torch.Size([1, 1, 144])\n",
      "gru out torch.Size([1, 1, 64])\n",
      "attn input torch.Size([1, 11, 64])\n",
      "attn out torch.Size([1, 64])\n",
      "proba torch.Size([1, 2])\n",
      "buffer torch.Size([1, 1, 40, 20])\n",
      "conv output torch.Size([1, 1, 144])\n",
      "gru out torch.Size([1, 1, 64])\n",
      "attn input torch.Size([1, 11, 64])\n",
      "attn out torch.Size([1, 64])\n",
      "proba torch.Size([1, 2])\n",
      "buffer torch.Size([1, 1, 40, 20])\n",
      "conv output torch.Size([1, 1, 144])\n",
      "gru out torch.Size([1, 1, 64])\n",
      "attn input torch.Size([1, 11, 64])\n",
      "attn out torch.Size([1, 64])\n",
      "proba torch.Size([1, 2])\n",
      "buffer torch.Size([1, 1, 40, 20])\n",
      "conv output torch.Size([1, 1, 144])\n",
      "gru out torch.Size([1, 1, 64])\n",
      "attn input torch.Size([1, 11, 64])\n",
      "attn out torch.Size([1, 64])\n",
      "proba torch.Size([1, 2])\n",
      "buffer torch.Size([1, 1, 40, 20])\n",
      "conv output torch.Size([1, 1, 144])\n",
      "gru out torch.Size([1, 1, 64])\n",
      "attn input torch.Size([1, 11, 64])\n",
      "attn out torch.Size([1, 64])\n",
      "proba torch.Size([1, 2])\n",
      "buffer torch.Size([1, 1, 40, 20])\n",
      "conv output torch.Size([1, 1, 144])\n",
      "gru out torch.Size([1, 1, 64])\n",
      "attn input torch.Size([1, 11, 64])\n",
      "attn out torch.Size([1, 64])\n",
      "proba torch.Size([1, 2])\n",
      "buffer torch.Size([1, 1, 40, 20])\n",
      "conv output torch.Size([1, 1, 144])\n",
      "gru out torch.Size([1, 1, 64])\n",
      "attn input torch.Size([1, 11, 64])\n",
      "attn out torch.Size([1, 64])\n",
      "proba torch.Size([1, 2])\n",
      "buffer torch.Size([1, 1, 40, 20])\n",
      "conv output torch.Size([1, 1, 144])\n",
      "gru out torch.Size([1, 1, 64])\n",
      "attn input torch.Size([1, 11, 64])\n",
      "attn out torch.Size([1, 64])\n",
      "proba torch.Size([1, 2])\n",
      "buffer torch.Size([1, 1, 40, 20])\n",
      "conv output torch.Size([1, 1, 144])\n",
      "gru out torch.Size([1, 1, 64])\n",
      "attn input torch.Size([1, 11, 64])\n",
      "attn out torch.Size([1, 64])\n",
      "proba torch.Size([1, 2])\n",
      "buffer torch.Size([1, 1, 40, 20])\n",
      "conv output torch.Size([1, 1, 144])\n",
      "gru out torch.Size([1, 1, 64])\n",
      "attn input torch.Size([1, 11, 64])\n",
      "attn out torch.Size([1, 64])\n",
      "proba torch.Size([1, 2])\n",
      "buffer torch.Size([1, 1, 40, 20])\n",
      "conv output torch.Size([1, 1, 144])\n",
      "gru out torch.Size([1, 1, 64])\n",
      "attn input torch.Size([1, 11, 64])\n",
      "attn out torch.Size([1, 64])\n",
      "proba torch.Size([1, 2])\n",
      "buffer torch.Size([1, 1, 40, 20])\n",
      "conv output torch.Size([1, 1, 144])\n",
      "gru out torch.Size([1, 1, 64])\n",
      "attn input torch.Size([1, 11, 64])\n",
      "attn out torch.Size([1, 64])\n",
      "proba torch.Size([1, 2])\n",
      "buffer torch.Size([1, 1, 40, 20])\n",
      "conv output torch.Size([1, 1, 144])\n",
      "gru out torch.Size([1, 1, 64])\n",
      "attn input torch.Size([1, 11, 64])\n",
      "attn out torch.Size([1, 64])\n",
      "proba torch.Size([1, 2])\n",
      "buffer torch.Size([1, 1, 40, 20])\n",
      "conv output torch.Size([1, 1, 144])\n",
      "gru out torch.Size([1, 1, 64])\n",
      "attn input torch.Size([1, 11, 64])\n",
      "attn out torch.Size([1, 64])\n",
      "proba torch.Size([1, 2])\n",
      "buffer torch.Size([1, 1, 40, 20])\n",
      "conv output torch.Size([1, 1, 144])\n",
      "gru out torch.Size([1, 1, 64])\n",
      "attn input torch.Size([1, 11, 64])\n",
      "attn out torch.Size([1, 64])\n",
      "proba torch.Size([1, 2])\n",
      "buffer torch.Size([1, 1, 40, 20])\n",
      "conv output torch.Size([1, 1, 144])\n",
      "gru out torch.Size([1, 1, 64])\n",
      "attn input torch.Size([1, 11, 64])\n",
      "attn out torch.Size([1, 64])\n",
      "proba torch.Size([1, 2])\n",
      "buffer torch.Size([1, 1, 40, 20])\n",
      "conv output torch.Size([1, 1, 144])\n",
      "gru out torch.Size([1, 1, 64])\n",
      "attn input torch.Size([1, 11, 64])\n",
      "attn out torch.Size([1, 64])\n",
      "proba torch.Size([1, 2])\n",
      "buffer torch.Size([1, 1, 40, 20])\n",
      "conv output torch.Size([1, 1, 144])\n",
      "gru out torch.Size([1, 1, 64])\n",
      "attn input torch.Size([1, 11, 64])\n",
      "attn out torch.Size([1, 64])\n",
      "proba torch.Size([1, 2])\n",
      "buffer torch.Size([1, 1, 40, 20])\n",
      "conv output torch.Size([1, 1, 144])\n",
      "gru out torch.Size([1, 1, 64])\n",
      "attn input torch.Size([1, 11, 64])\n",
      "attn out torch.Size([1, 64])\n",
      "proba torch.Size([1, 2])\n",
      "buffer torch.Size([1, 1, 40, 20])\n",
      "conv output torch.Size([1, 1, 144])\n",
      "gru out torch.Size([1, 1, 64])\n",
      "attn input torch.Size([1, 11, 64])\n",
      "attn out torch.Size([1, 64])\n",
      "proba torch.Size([1, 2])\n",
      "buffer torch.Size([1, 1, 40, 20])\n",
      "conv output torch.Size([1, 1, 144])\n",
      "gru out torch.Size([1, 1, 64])\n",
      "attn input torch.Size([1, 11, 64])\n",
      "attn out torch.Size([1, 64])\n",
      "proba torch.Size([1, 2])\n",
      "buffer torch.Size([1, 1, 40, 20])\n",
      "conv output torch.Size([1, 1, 144])\n",
      "gru out torch.Size([1, 1, 64])\n",
      "attn input torch.Size([1, 11, 64])\n",
      "attn out torch.Size([1, 64])\n",
      "proba torch.Size([1, 2])\n",
      "buffer torch.Size([1, 1, 40, 20])\n",
      "conv output torch.Size([1, 1, 144])\n",
      "gru out torch.Size([1, 1, 64])\n",
      "attn input torch.Size([1, 11, 64])\n",
      "attn out torch.Size([1, 64])\n",
      "proba torch.Size([1, 2])\n",
      "buffer torch.Size([1, 1, 40, 20])\n",
      "conv output torch.Size([1, 1, 144])\n",
      "gru out torch.Size([1, 1, 64])\n",
      "attn input torch.Size([1, 11, 64])\n",
      "attn out torch.Size([1, 64])\n",
      "proba torch.Size([1, 2])\n",
      "buffer torch.Size([1, 1, 40, 20])\n",
      "conv output torch.Size([1, 1, 144])\n",
      "gru out torch.Size([1, 1, 64])\n",
      "attn input torch.Size([1, 11, 64])\n",
      "attn out torch.Size([1, 64])\n",
      "proba torch.Size([1, 2])\n",
      "buffer torch.Size([1, 1, 40, 20])\n",
      "conv output torch.Size([1, 1, 144])\n",
      "gru out torch.Size([1, 1, 64])\n",
      "attn input torch.Size([1, 11, 64])\n",
      "attn out torch.Size([1, 64])\n",
      "proba torch.Size([1, 2])\n",
      "buffer torch.Size([1, 1, 40, 20])\n",
      "conv output torch.Size([1, 1, 144])\n",
      "gru out torch.Size([1, 1, 64])\n",
      "attn input torch.Size([1, 11, 64])\n",
      "attn out torch.Size([1, 64])\n",
      "proba torch.Size([1, 2])\n",
      "buffer torch.Size([1, 1, 40, 20])\n",
      "conv output torch.Size([1, 1, 144])\n",
      "gru out torch.Size([1, 1, 64])\n",
      "attn input torch.Size([1, 11, 64])\n",
      "attn out torch.Size([1, 64])\n",
      "proba torch.Size([1, 2])\n",
      "buffer torch.Size([1, 1, 40, 20])\n",
      "conv output torch.Size([1, 1, 144])\n",
      "gru out torch.Size([1, 1, 64])\n",
      "attn input torch.Size([1, 11, 64])\n",
      "attn out torch.Size([1, 64])\n",
      "proba torch.Size([1, 2])\n",
      "buffer torch.Size([1, 1, 40, 20])\n",
      "conv output torch.Size([1, 1, 144])\n",
      "gru out torch.Size([1, 1, 64])\n",
      "attn input torch.Size([1, 11, 64])\n",
      "attn out torch.Size([1, 64])\n",
      "proba torch.Size([1, 2])\n",
      "buffer torch.Size([1, 1, 40, 20])\n",
      "conv output torch.Size([1, 1, 144])\n",
      "gru out torch.Size([1, 1, 64])\n",
      "attn input torch.Size([1, 11, 64])\n",
      "attn out torch.Size([1, 64])\n",
      "proba torch.Size([1, 2])\n",
      "buffer torch.Size([1, 1, 40, 20])\n",
      "conv output torch.Size([1, 1, 144])\n",
      "gru out torch.Size([1, 1, 64])\n",
      "attn input torch.Size([1, 11, 64])\n",
      "attn out torch.Size([1, 64])\n",
      "proba torch.Size([1, 2])\n",
      "buffer torch.Size([1, 1, 40, 20])\n",
      "conv output torch.Size([1, 1, 144])\n",
      "gru out torch.Size([1, 1, 64])\n",
      "attn input torch.Size([1, 11, 64])\n",
      "attn out torch.Size([1, 64])\n",
      "proba torch.Size([1, 2])\n",
      "buffer torch.Size([1, 1, 40, 20])\n",
      "conv output torch.Size([1, 1, 144])\n",
      "gru out torch.Size([1, 1, 64])\n",
      "attn input torch.Size([1, 11, 64])\n",
      "attn out torch.Size([1, 64])\n",
      "proba torch.Size([1, 2])\n",
      "buffer torch.Size([1, 1, 40, 20])\n",
      "conv output torch.Size([1, 1, 144])\n",
      "gru out torch.Size([1, 1, 64])\n",
      "attn input torch.Size([1, 11, 64])\n",
      "attn out torch.Size([1, 64])\n",
      "proba torch.Size([1, 2])\n",
      "buffer torch.Size([1, 1, 40, 20])\n",
      "conv output torch.Size([1, 1, 144])\n",
      "gru out torch.Size([1, 1, 64])\n",
      "attn input torch.Size([1, 11, 64])\n",
      "attn out torch.Size([1, 64])\n",
      "proba torch.Size([1, 2])\n",
      "buffer torch.Size([1, 1, 40, 20])\n",
      "conv output torch.Size([1, 1, 144])\n",
      "gru out torch.Size([1, 1, 64])\n",
      "attn input torch.Size([1, 11, 64])\n",
      "attn out torch.Size([1, 64])\n",
      "proba torch.Size([1, 2])\n",
      "buffer torch.Size([1, 1, 40, 20])\n",
      "conv output torch.Size([1, 1, 144])\n",
      "gru out torch.Size([1, 1, 64])\n",
      "attn input torch.Size([1, 11, 64])\n",
      "attn out torch.Size([1, 64])\n",
      "proba torch.Size([1, 2])\n",
      "buffer torch.Size([1, 1, 40, 20])\n",
      "conv output torch.Size([1, 1, 144])\n",
      "gru out torch.Size([1, 1, 64])\n",
      "attn input torch.Size([1, 11, 64])\n",
      "attn out torch.Size([1, 64])\n",
      "proba torch.Size([1, 2])\n",
      "buffer torch.Size([1, 1, 40, 20])\n",
      "conv output torch.Size([1, 1, 144])\n",
      "gru out torch.Size([1, 1, 64])\n",
      "attn input torch.Size([1, 11, 64])\n",
      "attn out torch.Size([1, 64])\n",
      "proba torch.Size([1, 2])\n",
      "buffer torch.Size([1, 1, 40, 20])\n",
      "conv output torch.Size([1, 1, 144])\n",
      "gru out torch.Size([1, 1, 64])\n",
      "attn input torch.Size([1, 11, 64])\n",
      "attn out torch.Size([1, 64])\n",
      "proba torch.Size([1, 2])\n",
      "buffer torch.Size([1, 1, 40, 20])\n",
      "conv output torch.Size([1, 1, 144])\n",
      "gru out torch.Size([1, 1, 64])\n",
      "attn input torch.Size([1, 11, 64])\n",
      "attn out torch.Size([1, 64])\n",
      "proba torch.Size([1, 2])\n",
      "buffer torch.Size([1, 1, 40, 20])\n",
      "conv output torch.Size([1, 1, 144])\n",
      "gru out torch.Size([1, 1, 64])\n",
      "attn input torch.Size([1, 11, 64])\n",
      "attn out torch.Size([1, 64])\n",
      "proba torch.Size([1, 2])\n",
      "buffer torch.Size([1, 1, 40, 20])\n",
      "conv output torch.Size([1, 1, 144])\n",
      "gru out torch.Size([1, 1, 64])\n",
      "attn input torch.Size([1, 11, 64])\n",
      "attn out torch.Size([1, 64])\n",
      "proba torch.Size([1, 2])\n",
      "buffer torch.Size([1, 1, 40, 20])\n",
      "conv output torch.Size([1, 1, 144])\n",
      "gru out torch.Size([1, 1, 64])\n",
      "attn input torch.Size([1, 11, 64])\n",
      "attn out torch.Size([1, 64])\n",
      "proba torch.Size([1, 2])\n",
      "buffer torch.Size([1, 1, 40, 20])\n",
      "conv output torch.Size([1, 1, 144])\n",
      "gru out torch.Size([1, 1, 64])\n",
      "attn input torch.Size([1, 11, 64])\n",
      "attn out torch.Size([1, 64])\n",
      "proba torch.Size([1, 2])\n",
      "buffer torch.Size([1, 1, 40, 20])\n",
      "conv output torch.Size([1, 1, 144])\n",
      "gru out torch.Size([1, 1, 64])\n",
      "attn input torch.Size([1, 11, 64])\n",
      "attn out torch.Size([1, 64])\n",
      "proba torch.Size([1, 2])\n",
      "buffer torch.Size([1, 1, 40, 20])\n",
      "conv output torch.Size([1, 1, 144])\n",
      "gru out torch.Size([1, 1, 64])\n",
      "attn input torch.Size([1, 11, 64])\n",
      "attn out torch.Size([1, 64])\n",
      "proba torch.Size([1, 2])\n",
      "buffer torch.Size([1, 1, 40, 20])\n",
      "conv output torch.Size([1, 1, 144])\n",
      "gru out torch.Size([1, 1, 64])\n",
      "attn input torch.Size([1, 11, 64])\n",
      "attn out torch.Size([1, 64])\n",
      "proba torch.Size([1, 2])\n",
      "buffer torch.Size([1, 1, 40, 20])\n",
      "conv output torch.Size([1, 1, 144])\n",
      "gru out torch.Size([1, 1, 64])\n",
      "attn input torch.Size([1, 11, 64])\n",
      "attn out torch.Size([1, 64])\n",
      "proba torch.Size([1, 2])\n",
      "buffer torch.Size([1, 1, 40, 20])\n",
      "conv output torch.Size([1, 1, 144])\n",
      "gru out torch.Size([1, 1, 64])\n",
      "attn input torch.Size([1, 11, 64])\n",
      "attn out torch.Size([1, 64])\n",
      "proba torch.Size([1, 2])\n",
      "buffer torch.Size([1, 1, 40, 20])\n",
      "conv output torch.Size([1, 1, 144])\n",
      "gru out torch.Size([1, 1, 64])\n",
      "attn input torch.Size([1, 11, 64])\n",
      "attn out torch.Size([1, 64])\n",
      "proba torch.Size([1, 2])\n",
      "buffer torch.Size([1, 1, 40, 20])\n",
      "conv output torch.Size([1, 1, 144])\n",
      "gru out torch.Size([1, 1, 64])\n",
      "attn input torch.Size([1, 11, 64])\n",
      "attn out torch.Size([1, 64])\n",
      "proba torch.Size([1, 2])\n",
      "buffer torch.Size([1, 1, 40, 20])\n",
      "conv output torch.Size([1, 1, 144])\n",
      "gru out torch.Size([1, 1, 64])\n",
      "attn input torch.Size([1, 11, 64])\n",
      "attn out torch.Size([1, 64])\n",
      "proba torch.Size([1, 2])\n",
      "buffer torch.Size([1, 1, 40, 20])\n",
      "conv output torch.Size([1, 1, 144])\n",
      "gru out torch.Size([1, 1, 64])\n",
      "attn input torch.Size([1, 11, 64])\n",
      "attn out torch.Size([1, 64])\n",
      "proba torch.Size([1, 2])\n",
      "buffer torch.Size([1, 1, 40, 20])\n",
      "conv output torch.Size([1, 1, 144])\n",
      "gru out torch.Size([1, 1, 64])\n",
      "attn input torch.Size([1, 11, 64])\n",
      "attn out torch.Size([1, 64])\n",
      "proba torch.Size([1, 2])\n",
      "buffer torch.Size([1, 1, 40, 20])\n",
      "conv output torch.Size([1, 1, 144])\n",
      "gru out torch.Size([1, 1, 64])\n",
      "attn input torch.Size([1, 11, 64])\n",
      "attn out torch.Size([1, 64])\n",
      "proba torch.Size([1, 2])\n",
      "buffer torch.Size([1, 1, 40, 20])\n",
      "conv output torch.Size([1, 1, 144])\n",
      "gru out torch.Size([1, 1, 64])\n",
      "attn input torch.Size([1, 11, 64])\n",
      "attn out torch.Size([1, 64])\n",
      "proba torch.Size([1, 2])\n",
      "buffer torch.Size([1, 1, 40, 20])\n",
      "conv output torch.Size([1, 1, 144])\n",
      "gru out torch.Size([1, 1, 64])\n",
      "attn input torch.Size([1, 11, 64])\n",
      "attn out torch.Size([1, 64])\n",
      "proba torch.Size([1, 2])\n",
      "buffer torch.Size([1, 1, 40, 20])\n",
      "conv output torch.Size([1, 1, 144])\n",
      "gru out torch.Size([1, 1, 64])\n",
      "attn input torch.Size([1, 11, 64])\n",
      "attn out torch.Size([1, 64])\n",
      "proba torch.Size([1, 2])\n",
      "buffer torch.Size([1, 1, 40, 20])\n",
      "conv output torch.Size([1, 1, 144])\n",
      "gru out torch.Size([1, 1, 64])\n",
      "attn input torch.Size([1, 11, 64])\n",
      "attn out torch.Size([1, 64])\n",
      "proba torch.Size([1, 2])\n",
      "buffer torch.Size([1, 1, 40, 20])\n",
      "conv output torch.Size([1, 1, 144])\n",
      "gru out torch.Size([1, 1, 64])\n",
      "attn input torch.Size([1, 11, 64])\n",
      "attn out torch.Size([1, 64])\n",
      "proba torch.Size([1, 2])\n",
      "buffer torch.Size([1, 1, 40, 20])\n",
      "conv output torch.Size([1, 1, 144])\n",
      "gru out torch.Size([1, 1, 64])\n",
      "attn input torch.Size([1, 11, 64])\n",
      "attn out torch.Size([1, 64])\n",
      "proba torch.Size([1, 2])\n",
      "buffer torch.Size([1, 1, 40, 20])\n",
      "conv output torch.Size([1, 1, 144])\n",
      "gru out torch.Size([1, 1, 64])\n",
      "attn input torch.Size([1, 11, 64])\n",
      "attn out torch.Size([1, 64])\n",
      "proba torch.Size([1, 2])\n",
      "buffer torch.Size([1, 1, 40, 20])\n",
      "conv output torch.Size([1, 1, 144])\n",
      "gru out torch.Size([1, 1, 64])\n",
      "attn input torch.Size([1, 11, 64])\n",
      "attn out torch.Size([1, 64])\n",
      "proba torch.Size([1, 2])\n",
      "buffer torch.Size([1, 1, 40, 20])\n",
      "conv output torch.Size([1, 1, 144])\n",
      "gru out torch.Size([1, 1, 64])\n",
      "attn input torch.Size([1, 11, 64])\n",
      "attn out torch.Size([1, 64])\n",
      "proba torch.Size([1, 2])\n",
      "buffer torch.Size([1, 1, 40, 20])\n",
      "conv output torch.Size([1, 1, 144])\n",
      "gru out torch.Size([1, 1, 64])\n",
      "attn input torch.Size([1, 11, 64])\n",
      "attn out torch.Size([1, 64])\n",
      "proba torch.Size([1, 2])\n",
      "buffer torch.Size([1, 1, 40, 20])\n",
      "conv output torch.Size([1, 1, 144])\n",
      "gru out torch.Size([1, 1, 64])\n",
      "attn input torch.Size([1, 11, 64])\n",
      "attn out torch.Size([1, 64])\n",
      "proba torch.Size([1, 2])\n",
      "buffer torch.Size([1, 1, 40, 20])\n",
      "conv output torch.Size([1, 1, 144])\n",
      "gru out torch.Size([1, 1, 64])\n",
      "attn input torch.Size([1, 11, 64])\n",
      "attn out torch.Size([1, 64])\n",
      "proba torch.Size([1, 2])\n",
      "buffer torch.Size([1, 1, 40, 20])\n",
      "conv output torch.Size([1, 1, 144])\n",
      "gru out torch.Size([1, 1, 64])\n",
      "attn input torch.Size([1, 11, 64])\n",
      "attn out torch.Size([1, 64])\n",
      "proba torch.Size([1, 2])\n",
      "buffer torch.Size([1, 1, 40, 20])\n",
      "conv output torch.Size([1, 1, 144])\n",
      "gru out torch.Size([1, 1, 64])\n",
      "attn input torch.Size([1, 11, 64])\n",
      "attn out torch.Size([1, 64])\n",
      "proba torch.Size([1, 2])\n"
     ]
    }
   ],
   "source": [
    "#!g1.1\n",
    "step = config.stride[1]\n",
    "\n",
    "for i in range(0, sample.shape[2], step):\n",
    "    decoder.decode(sample[:, :, i:i+step])"
   ]
  },
  {
   "cell_type": "code",
   "execution_count": 528,
   "metadata": {
    "cellId": "thux13r6r9srmqdclwvb"
   },
   "outputs": [],
   "source": [
    "#!g1.1\n",
    "def moving_average(x, w):\n",
    "    return np.convolve(x, np.ones(w), 'valid') / w\n"
   ]
  },
  {
   "cell_type": "code",
   "execution_count": 546,
   "metadata": {
    "cellId": "l4xowv25bvehctj1gdpdk"
   },
   "outputs": [
    {
     "data": {
      "image/png": "[encoded data removed]",
      "text/plain": [
       "<Figure size 432x288 with 1 Axes>"
      ]
     },
     "metadata": {},
     "output_type": "display_data"
    }
   ],
   "source": [
    "#!g1.1\n",
    "import seaborn as sns\n",
    "sns.set()\n",
    "\n",
    "window_size = 10\n",
    "left_x = (labels.index(1) * 101) // step \n",
    "right_x = (labels.index(1) + 1) * 101 // step\n",
    "\n",
    "fig, ax = plt.subplots()\n",
    "\n",
    "ax.plot(\n",
    "    np.arange(decoder.probas.shape[0] - window_size + 1),\n",
    "    moving_average(decoder.probas.cpu().numpy(), window_size)\n",
    ")\n",
    "\n",
    "ax.plot(\n",
    "    [left_x, left_x, right_x, right_x, left_x],\n",
    "    [0,1,1,0,0],\n",
    "    c='g',\n",
    "    linestyle='dashed'\n",
    ")\n",
    "\n",
    "ax.set(\n",
    "    xlabel=f'Frame, step={step}',\n",
    "    ylabel='Proba of keyword'\n",
    ");"
   ]
  },
  {
   "cell_type": "code",
   "execution_count": null,
   "metadata": {
    "cellId": "z2a1895grsap4h6s9r7vt"
   },
   "outputs": [],
   "source": [
    "#!g1.1\n"
   ]
  },
  {
   "cell_type": "markdown",
   "metadata": {
    "cellId": "18k5np5xlfy4jfsrzlww0v"
   },
   "source": [
    "# Compresing"
   ]
  },
  {
   "cell_type": "code",
   "execution_count": 66,
   "metadata": {
    "cellId": "xy2gtn5jxvc3zl6hcqvug7"
   },
   "outputs": [],
   "source": [
    "#!g1.1\n",
    "import time\n",
    "from thop import profile, clever_format, rnn_hooks\n",
    "\n",
    "\n",
    "def get_size_in_megabytes(model):\n",
    "    num_params = sum([p.numel() for p in model.parameters() if p.requires_grad])\n",
    "    param_size = next(model.parameters()).element_size()\n",
    "    return (num_params * param_size) / (2 ** 20)\n",
    "\n",
    "\n",
    "class Timer:\n",
    "    def __init__(self, name: str, verbose=False):\n",
    "        self.name = name\n",
    "        self.verbose = verbose\n",
    "\n",
    "    def __enter__(self):\n",
    "        self.t = time.time()\n",
    "        return self\n",
    "\n",
    "    def __exit__(self, type, value, traceback):\n",
    "        self.t = time.time() - self.t\n",
    "\n",
    "        if self.verbose:\n",
    "            print(f\"{self.name.capitalize()} | Elapsed time : {self.t:.2f}\")\n"
   ]
  },
  {
   "cell_type": "code",
   "execution_count": null,
   "metadata": {},
   "outputs": [],
   "source": []
  },
  {
   "cell_type": "markdown",
   "metadata": {
    "cellId": "b8onmbmlymiy57ygqh7ix",
    "tags": []
   },
   "source": [
    "## Базовый сценарий"
   ]
  },
  {
   "cell_type": "code",
   "execution_count": 485,
   "metadata": {
    "cellId": "f16wx2f9t6w4v4spqwrzec"
   },
   "outputs": [],
   "source": [
    "#!g1.1\n",
    "\n",
    "# берем один бач и гоняем на нем, тк датасфера на даталоадерах постоянно непредсказуемо подвисает\n",
    "inference_device = 'cpu'\n",
    "\n",
    "melspec_inf = LogMelspec(is_train=False, config=TaskConfig)\n",
    "melspec_inf.melspec.to(inference_device)\n",
    "\n",
    "batch, labels = next(iter(val_loader))\n",
    "batch, labels = batch.to(inference_device), labels.to(inference_device)\n",
    "batch = melspec_inf(batch)"
   ]
  },
  {
   "cell_type": "code",
   "execution_count": 60,
   "metadata": {
    "cellId": "cmh3bb71ohqdi9i50gdn0i"
   },
   "outputs": [],
   "source": [
    "#!g1.1\n",
    "\n",
    "# base model\n",
    "def get_base_model():\n",
    "    config = TaskConfig()\n",
    "    model = CRNN(config).to(config.device)\n",
    "    model.load_state_dict(torch.load(\"base_model_39.pth\")['model_state_dict'])\n",
    "    \n",
    "    return model\n",
    "\n",
    "base_model = model"
   ]
  },
  {
   "cell_type": "code",
   "execution_count": 482,
   "metadata": {
    "cellId": "6y1nkqyhk15x8xts144e5"
   },
   "outputs": [],
   "source": [
    "#!g1.1\n",
    "def report_model(model, batch, device, model_name=\"Base\", n_batches=1000, wandb=None):\n",
    "    model = model.to(device)\n",
    "    batch = batch.to(device)\n",
    "    print(f\"Profile Model {model_name}\")\n",
    "    macs_number, params_number = profile(model, (batch, )) \n",
    "    macs, params = clever_format([macs_number, params_number], \"%3f\")\n",
    "    print(f\"Macs - {macs}, params - {params}\")\n",
    "\n",
    "    model_size = get_size_in_megabytes(model)\n",
    "    print(f\"Model size - {model_size} Mb\")\n",
    "                \n",
    "    au_fa_fr = validation(model, val_loader,\n",
    "                          melspec_inf, inference_device)\n",
    "    print(\"AU_FA_FR\", au_fa_fr)\n",
    "    \n",
    "    if wandb is not None:\n",
    "        wandb.log({\n",
    "            \"val_au_fa_fr\": au_fa_fr,\n",
    "            \"Macs\": macs_number,\n",
    "            \"Params\": params_number,\n",
    "            \"size\": model_size\n",
    "        })\n",
    "            "
   ]
  },
  {
   "cell_type": "code",
   "execution_count": 72,
   "metadata": {
    "cellId": "ljpafqvccta3o5vb4hmc44"
   },
   "outputs": [
    {
     "name": "stdout",
     "output_type": "stream",
     "text": [
      "Profile Model Base\n",
      "[INFO] Register count_convNd() for <class 'torch.nn.modules.conv.Conv2d'>.\n",
      "\u001b[91m[WARN] Cannot find rule for <class 'torch.nn.modules.flatten.Flatten'>. Treat it as zero Macs and zero Params.\u001b[00m\n",
      "\u001b[91m[WARN] Cannot find rule for <class 'torch.nn.modules.container.Sequential'>. Treat it as zero Macs and zero Params.\u001b[00m\n",
      "[INFO] Register count_gru() for <class 'torch.nn.modules.rnn.GRU'>.\n",
      "[INFO] Register count_linear() for <class 'torch.nn.modules.linear.Linear'>.\n",
      "\u001b[91m[WARN] Cannot find rule for <class 'torch.nn.modules.activation.Tanh'>. Treat it as zero Macs and zero Params.\u001b[00m\n",
      "\u001b[91m[WARN] Cannot find rule for <class '__main__.Attention'>. Treat it as zero Macs and zero Params.\u001b[00m\n",
      "\u001b[91m[WARN] Cannot find rule for <class '__main__.CRNN'>. Treat it as zero Macs and zero Params.\u001b[00m\n",
      "Macs - 119.527424M, params - 70.443000K\n",
      "Model size - 0.2687187194824219 Mb\n",
      "Batch time | Elapsed time : 1.19\n"
     ]
    },
    {
     "name": "stderr",
     "output_type": "stream",
     "text": [
      "102it [00:02, 39.62it/s]\n"
     ]
    },
    {
     "name": "stdout",
     "output_type": "stream",
     "text": [
      "AU_FA_FR 1.8851482808763522e-05\n"
     ]
    }
   ],
   "source": [
    "#!g1.1\n",
    "report_model(base_model, batch, inference_device, wandb=wandb)"
   ]
  },
  {
   "cell_type": "code",
   "execution_count": null,
   "metadata": {},
   "outputs": [],
   "source": []
  },
  {
   "cell_type": "code",
   "execution_count": 357,
   "metadata": {
    "cellId": "emabojvw4bnnzcqhg71xj"
   },
   "outputs": [],
   "source": [
    "#!g1.1\n"
   ]
  },
  {
   "cell_type": "markdown",
   "metadata": {},
   "source": [
    "## Дистиляция"
   ]
  },
  {
   "cell_type": "code",
   "execution_count": 449,
   "metadata": {
    "cellId": "ya86ph4amqvfkbpmkrxg"
   },
   "outputs": [],
   "source": [
    "#!g1.1\n",
    "\n",
    "def train_model(distil_model, opt, config, model, name=None, wandb=None):\n",
    "    if name is None:\n",
    "        name = ''\n",
    "        \n",
    "    history = defaultdict(list)\n",
    "\n",
    "    for n in range(config.num_epochs):\n",
    "        train_epoch(\n",
    "            distil_model, opt, train_loader,\n",
    "            melspec_train, config.device,\n",
    "            distil=(\n",
    "                model.to(config.device),\n",
    "                config.distil_alpha,\n",
    "                KDLoss(5, config.distil_alpha, reduction='mean')\n",
    "            )\n",
    "        )\n",
    "\n",
    "        torch.save({\n",
    "            'model_state_dict': distil_model.state_dict(),\n",
    "        }, f'models/distil_model_{name}_{n}.pth')\n",
    "        \n",
    "        if n % config.val_every_epoch == 0:\n",
    "            au_fa_fr = validation(distil_model, val_loader,\n",
    "                                  melspec_val, config.device, wandb=wandb)\n",
    "            history['val_metric'].append(au_fa_fr)\n",
    "\n",
    "            clear_output()\n",
    "            plt.plot(history['val_metric'])\n",
    "            plt.ylabel('Metric')\n",
    "            plt.xlabel('Epoch')\n",
    "            plt.grid()\n",
    "            plt.show()\n",
    "\n",
    "            print('END OF EPOCH', n)\n",
    "\n",
    "def train(config, name=None):\n",
    "    distil_model = CRNN(config).to(config.device)\n",
    "\n",
    "  #  print(distil_model)\n",
    "\n",
    "    opt = torch.optim.Adam(\n",
    "        distil_model.parameters(),\n",
    "        lr=config.learning_rate,\n",
    "        weight_decay=config.weight_decay\n",
    "    )\n",
    "    \n",
    "    wandb.init(\n",
    "        project='kws',\n",
    "        name=name,\n",
    "        config=config.__dict__\n",
    "    )\n",
    "    \n",
    "    train_model(distil_model, opt, config, model, wandb=wandb, name=name)\n",
    "    \n",
    "    return distil_model, wandb"
   ]
  },
  {
   "cell_type": "code",
   "execution_count": null,
   "metadata": {},
   "outputs": [],
   "source": []
  },
  {
   "cell_type": "code",
   "execution_count": 450,
   "metadata": {},
   "outputs": [],
   "source": [
    "@dataclasses.dataclass\n",
    "class DistilTaskConfig:\n",
    "    keyword: str = 'sheila'  # We will use 1 key word -- 'sheila'\n",
    "    batch_size: int = 128\n",
    "    learning_rate: float = 1e-4\n",
    "    weight_decay: float = 0\n",
    "    num_epochs: int = 100\n",
    "    n_mels: int = 40\n",
    "    cnn_out_channels: int = 6\n",
    "    kernel_size: Tuple[int, int] = (5, 25)\n",
    "    stride: Tuple[int, int] = (2, 12)\n",
    "    hidden_size: int = 20\n",
    "    gru_num_layers: int = 1\n",
    "    bidirectional: bool = False\n",
    "    num_classes: int = 2\n",
    "    val_every_epoch: int = 3\n",
    "    sample_rate: int = 16000\n",
    "    distil_alpha = 0.9\n",
    "    device: torch.device = torch.device(\n",
    "        'cuda:0' if torch.cuda.is_available() else 'cpu'\n",
    "    )"
   ]
  },
  {
   "cell_type": "code",
   "execution_count": null,
   "metadata": {},
   "outputs": [],
   "source": []
  },
  {
   "cell_type": "code",
   "execution_count": 469,
   "metadata": {
    "collapsed": true,
    "jupyter": {
     "outputs_hidden": true
    },
    "tags": []
   },
   "outputs": [
    {
     "data": {
      "image/png": "[encoded data removed]",
      "text/plain": [
       "<Figure size 432x288 with 1 Axes>"
      ]
     },
     "metadata": {
      "needs_background": "light"
     },
     "output_type": "display_data"
    },
    {
     "name": "stdout",
     "output_type": "stream",
     "text": [
      "END OF EPOCH 3\n"
     ]
    },
    {
     "name": "stderr",
     "output_type": "stream",
     "text": [
      "208it [00:05, 36.16it/s]\n",
      "Exception in thread Thread-3456:\n",
      "Traceback (most recent call last):\n",
      "  File \"/opt/conda/lib/python3.7/threading.py\", line 926, in _bootstrap_inner\n",
      "    self.run()\n",
      "  File \"/opt/conda/lib/python3.7/threading.py\", line 870, in run\n",
      "    self._target(*self._args, **self._kwargs)\n",
      "  File \"/opt/conda/lib/python3.7/site-packages/torch/utils/data/_utils/pin_memory.py\", line 28, in _pin_memory_loop\n",
      "    r = in_queue.get(timeout=MP_STATUS_CHECK_INTERVAL)\n",
      "  File \"/opt/conda/lib/python3.7/multiprocessing/queues.py\", line 113, in get\n",
      "    return _ForkingPickler.loads(res)\n",
      "  File \"/opt/conda/lib/python3.7/site-packages/torch/multiprocessing/reductions.py\", line 289, in rebuild_storage_fd\n",
      "    fd = df.detach()\n",
      "  File \"/opt/conda/lib/python3.7/multiprocessing/resource_sharer.py\", line 57, in detach\n",
      "    with _resource_sharer.get_connection(self._id) as conn:\n",
      "  File \"/opt/conda/lib/python3.7/multiprocessing/resource_sharer.py\", line 87, in get_connection\n",
      "    c = Client(address, authkey=process.current_process().authkey)\n",
      "  File \"/opt/conda/lib/python3.7/multiprocessing/connection.py\", line 492, in Client\n",
      "    c = SocketClient(address)\n",
      "  File \"/opt/conda/lib/python3.7/multiprocessing/connection.py\", line 620, in SocketClient\n",
      "    s.connect(address)\n",
      "FileNotFoundError: [Errno 2] No such file or directory\n",
      "\n"
     ]
    },
    {
     "ename": "KeyboardInterrupt",
     "evalue": "",
     "output_type": "error",
     "traceback": [
      "\u001b[0;31m---------------------------------------------------------------------------\u001b[0m",
      "\u001b[0;31mKeyboardInterrupt\u001b[0m                         Traceback (most recent call last)",
      "\u001b[0;32m/tmp/ipykernel_76/3488272750.py\u001b[0m in \u001b[0;36m<module>\u001b[0;34m\u001b[0m\n\u001b[1;32m     18\u001b[0m                 )\n\u001b[1;32m     19\u001b[0m \u001b[0;34m\u001b[0m\u001b[0m\n\u001b[0;32m---> 20\u001b[0;31m                 \u001b[0mdistil_model\u001b[0m\u001b[0;34m,\u001b[0m \u001b[0mwandb\u001b[0m \u001b[0;34m=\u001b[0m \u001b[0mtrain\u001b[0m\u001b[0;34m(\u001b[0m\u001b[0mconfig\u001b[0m\u001b[0;34m,\u001b[0m \u001b[0;34mf\"chan={cnn_channel}, kernel={kernel}, hidden={hidden}, stride={stride}\"\u001b[0m\u001b[0;34m)\u001b[0m\u001b[0;34m\u001b[0m\u001b[0;34m\u001b[0m\u001b[0m\n\u001b[0m\u001b[1;32m     21\u001b[0m \u001b[0;34m\u001b[0m\u001b[0m\n\u001b[1;32m     22\u001b[0m                 \u001b[0mreport_model\u001b[0m\u001b[0;34m(\u001b[0m\u001b[0mdistil_model\u001b[0m\u001b[0;34m,\u001b[0m \u001b[0mbatch\u001b[0m\u001b[0;34m,\u001b[0m \u001b[0minference_device\u001b[0m\u001b[0;34m,\u001b[0m \u001b[0mwandb\u001b[0m\u001b[0;34m=\u001b[0m\u001b[0mwandb\u001b[0m\u001b[0;34m)\u001b[0m\u001b[0;34m\u001b[0m\u001b[0;34m\u001b[0m\u001b[0m\n",
      "\u001b[0;32m/tmp/ipykernel_76/1474041397.py\u001b[0m in \u001b[0;36mtrain\u001b[0;34m(config, name)\u001b[0m\n\u001b[1;32m     53\u001b[0m     )\n\u001b[1;32m     54\u001b[0m \u001b[0;34m\u001b[0m\u001b[0m\n\u001b[0;32m---> 55\u001b[0;31m     \u001b[0mtrain_model\u001b[0m\u001b[0;34m(\u001b[0m\u001b[0mdistil_model\u001b[0m\u001b[0;34m,\u001b[0m \u001b[0mopt\u001b[0m\u001b[0;34m,\u001b[0m \u001b[0mconfig\u001b[0m\u001b[0;34m,\u001b[0m \u001b[0mmodel\u001b[0m\u001b[0;34m,\u001b[0m \u001b[0mwandb\u001b[0m\u001b[0;34m=\u001b[0m\u001b[0mwandb\u001b[0m\u001b[0;34m,\u001b[0m \u001b[0mname\u001b[0m\u001b[0;34m=\u001b[0m\u001b[0mname\u001b[0m\u001b[0;34m)\u001b[0m\u001b[0;34m\u001b[0m\u001b[0;34m\u001b[0m\u001b[0m\n\u001b[0m\u001b[1;32m     56\u001b[0m \u001b[0;34m\u001b[0m\u001b[0m\n\u001b[1;32m     57\u001b[0m     \u001b[0;32mreturn\u001b[0m \u001b[0mdistil_model\u001b[0m\u001b[0;34m,\u001b[0m \u001b[0mwandb\u001b[0m\u001b[0;34m\u001b[0m\u001b[0;34m\u001b[0m\u001b[0m\n",
      "\u001b[0;32m/tmp/ipykernel_76/1474041397.py\u001b[0m in \u001b[0;36mtrain_model\u001b[0;34m(distil_model, opt, config, model, name, wandb)\u001b[0m\n\u001b[1;32m     14\u001b[0m                 \u001b[0mmodel\u001b[0m\u001b[0;34m.\u001b[0m\u001b[0mto\u001b[0m\u001b[0;34m(\u001b[0m\u001b[0mconfig\u001b[0m\u001b[0;34m.\u001b[0m\u001b[0mdevice\u001b[0m\u001b[0;34m)\u001b[0m\u001b[0;34m,\u001b[0m\u001b[0;34m\u001b[0m\u001b[0;34m\u001b[0m\u001b[0m\n\u001b[1;32m     15\u001b[0m                 \u001b[0mconfig\u001b[0m\u001b[0;34m.\u001b[0m\u001b[0mdistil_alpha\u001b[0m\u001b[0;34m,\u001b[0m\u001b[0;34m\u001b[0m\u001b[0;34m\u001b[0m\u001b[0m\n\u001b[0;32m---> 16\u001b[0;31m                 \u001b[0mKDLoss\u001b[0m\u001b[0;34m(\u001b[0m\u001b[0;36m5\u001b[0m\u001b[0;34m,\u001b[0m \u001b[0mconfig\u001b[0m\u001b[0;34m.\u001b[0m\u001b[0mdistil_alpha\u001b[0m\u001b[0;34m,\u001b[0m \u001b[0mreduction\u001b[0m\u001b[0;34m=\u001b[0m\u001b[0;34m'mean'\u001b[0m\u001b[0;34m)\u001b[0m\u001b[0;34m\u001b[0m\u001b[0;34m\u001b[0m\u001b[0m\n\u001b[0m\u001b[1;32m     17\u001b[0m             )\n\u001b[1;32m     18\u001b[0m         )\n",
      "\u001b[0;32m/tmp/ipykernel_76/3143510600.py\u001b[0m in \u001b[0;36mtrain_epoch\u001b[0;34m(model, opt, loader, log_melspec, device, distil)\u001b[0m\n\u001b[1;32m     25\u001b[0m \u001b[0;34m\u001b[0m\u001b[0m\n\u001b[1;32m     26\u001b[0m         \u001b[0mloss\u001b[0m\u001b[0;34m.\u001b[0m\u001b[0mbackward\u001b[0m\u001b[0;34m(\u001b[0m\u001b[0;34m)\u001b[0m\u001b[0;34m\u001b[0m\u001b[0;34m\u001b[0m\u001b[0m\n\u001b[0;32m---> 27\u001b[0;31m         \u001b[0mtorch\u001b[0m\u001b[0;34m.\u001b[0m\u001b[0mnn\u001b[0m\u001b[0;34m.\u001b[0m\u001b[0mutils\u001b[0m\u001b[0;34m.\u001b[0m\u001b[0mclip_grad_norm_\u001b[0m\u001b[0;34m(\u001b[0m\u001b[0mmodel\u001b[0m\u001b[0;34m.\u001b[0m\u001b[0mparameters\u001b[0m\u001b[0;34m(\u001b[0m\u001b[0;34m)\u001b[0m\u001b[0;34m,\u001b[0m \u001b[0;36m5\u001b[0m\u001b[0;34m)\u001b[0m\u001b[0;34m\u001b[0m\u001b[0;34m\u001b[0m\u001b[0m\n\u001b[0m\u001b[1;32m     28\u001b[0m \u001b[0;34m\u001b[0m\u001b[0m\n\u001b[1;32m     29\u001b[0m         \u001b[0mopt\u001b[0m\u001b[0;34m.\u001b[0m\u001b[0mstep\u001b[0m\u001b[0;34m(\u001b[0m\u001b[0;34m)\u001b[0m\u001b[0;34m\u001b[0m\u001b[0;34m\u001b[0m\u001b[0m\n",
      "\u001b[0;32m/opt/conda/lib/python3.7/site-packages/torch/nn/utils/clip_grad.py\u001b[0m in \u001b[0;36mclip_grad_norm_\u001b[0;34m(parameters, max_norm, norm_type, error_if_nonfinite)\u001b[0m\n\u001b[1;32m     41\u001b[0m     \u001b[0;32melse\u001b[0m\u001b[0;34m:\u001b[0m\u001b[0;34m\u001b[0m\u001b[0;34m\u001b[0m\u001b[0m\n\u001b[1;32m     42\u001b[0m         \u001b[0mtotal_norm\u001b[0m \u001b[0;34m=\u001b[0m \u001b[0mtorch\u001b[0m\u001b[0;34m.\u001b[0m\u001b[0mnorm\u001b[0m\u001b[0;34m(\u001b[0m\u001b[0mtorch\u001b[0m\u001b[0;34m.\u001b[0m\u001b[0mstack\u001b[0m\u001b[0;34m(\u001b[0m\u001b[0;34m[\u001b[0m\u001b[0mtorch\u001b[0m\u001b[0;34m.\u001b[0m\u001b[0mnorm\u001b[0m\u001b[0;34m(\u001b[0m\u001b[0mp\u001b[0m\u001b[0;34m.\u001b[0m\u001b[0mgrad\u001b[0m\u001b[0;34m.\u001b[0m\u001b[0mdetach\u001b[0m\u001b[0;34m(\u001b[0m\u001b[0;34m)\u001b[0m\u001b[0;34m,\u001b[0m \u001b[0mnorm_type\u001b[0m\u001b[0;34m)\u001b[0m\u001b[0;34m.\u001b[0m\u001b[0mto\u001b[0m\u001b[0;34m(\u001b[0m\u001b[0mdevice\u001b[0m\u001b[0;34m)\u001b[0m \u001b[0;32mfor\u001b[0m \u001b[0mp\u001b[0m \u001b[0;32min\u001b[0m \u001b[0mparameters\u001b[0m\u001b[0;34m]\u001b[0m\u001b[0;34m)\u001b[0m\u001b[0;34m,\u001b[0m \u001b[0mnorm_type\u001b[0m\u001b[0;34m)\u001b[0m\u001b[0;34m\u001b[0m\u001b[0;34m\u001b[0m\u001b[0m\n\u001b[0;32m---> 43\u001b[0;31m     \u001b[0;32mif\u001b[0m \u001b[0mtotal_norm\u001b[0m\u001b[0;34m.\u001b[0m\u001b[0misnan\u001b[0m\u001b[0;34m(\u001b[0m\u001b[0;34m)\u001b[0m \u001b[0;32mor\u001b[0m \u001b[0mtotal_norm\u001b[0m\u001b[0;34m.\u001b[0m\u001b[0misinf\u001b[0m\u001b[0;34m(\u001b[0m\u001b[0;34m)\u001b[0m\u001b[0;34m:\u001b[0m\u001b[0;34m\u001b[0m\u001b[0;34m\u001b[0m\u001b[0m\n\u001b[0m\u001b[1;32m     44\u001b[0m         \u001b[0;32mif\u001b[0m \u001b[0merror_if_nonfinite\u001b[0m\u001b[0;34m:\u001b[0m\u001b[0;34m\u001b[0m\u001b[0;34m\u001b[0m\u001b[0m\n\u001b[1;32m     45\u001b[0m             raise RuntimeError(\n",
      "\u001b[0;31mKeyboardInterrupt\u001b[0m: "
     ]
    }
   ],
   "source": [
    "n_exp = 0\n",
    "skip_exps = 1\n",
    "\n",
    "for cnn_channel in [2, 3, 4]:\n",
    "    for kernel in [20, 25]:\n",
    "        for hidden in [12, 16, 20]:\n",
    "            for stride in [6]:\n",
    "                n_exp += 1\n",
    "                \n",
    "                if n_exp <= skip_exps:\n",
    "                    continue\n",
    "                    \n",
    "                config = DistilTaskConfig(\n",
    "                    cnn_out_channels=cnn_channel,\n",
    "                    kernel_size=(5, kernel),\n",
    "                    hidden_size=hidden,\n",
    "                    stride=(2, stride)\n",
    "                )\n",
    "\n",
    "                distil_model, wandb = train(config, f\"chan={cnn_channel}, kernel={kernel}, hidden={hidden}, stride={stride}\")\n",
    "\n",
    "                report_model(distil_model, batch, inference_device, wandb=wandb)"
   ]
  },
  {
   "cell_type": "code",
   "execution_count": null,
   "metadata": {},
   "outputs": [],
   "source": []
  },
  {
   "cell_type": "code",
   "execution_count": null,
   "metadata": {},
   "outputs": [],
   "source": []
  },
  {
   "cell_type": "code",
   "execution_count": 390,
   "metadata": {
    "cellId": "dkl89bxsoznm2vhjyupp6"
   },
   "outputs": [
    {
     "data": {
      "text/plain": [
       "<All keys matched successfully>"
      ]
     },
     "execution_count": 390,
     "metadata": {},
     "output_type": "execute_result"
    }
   ],
   "source": [
    "#!g1.1\n",
    "distil_model.load_state_dict(torch.load(\"best_distil_20_2_12.pth\")['model_state_dict'])"
   ]
  },
  {
   "cell_type": "code",
   "execution_count": 459,
   "metadata": {},
   "outputs": [
    {
     "name": "stdout",
     "output_type": "stream",
     "text": [
      "Profile Model Base\n",
      "[INFO] Register count_convNd() for <class 'torch.nn.modules.conv.Conv2d'>.\n",
      "\u001b[91m[WARN] Cannot find rule for <class 'torch.nn.modules.flatten.Flatten'>. Treat it as zero Macs and zero Params.\u001b[00m\n",
      "\u001b[91m[WARN] Cannot find rule for <class 'torch.nn.modules.container.Sequential'>. Treat it as zero Macs and zero Params.\u001b[00m\n",
      "[INFO] Register count_gru() for <class 'torch.nn.modules.rnn.GRU'>.\n",
      "[INFO] Register count_linear() for <class 'torch.nn.modules.linear.Linear'>.\n",
      "\u001b[91m[WARN] Cannot find rule for <class 'torch.nn.modules.activation.Tanh'>. Treat it as zero Macs and zero Params.\u001b[00m\n",
      "\u001b[91m[WARN] Cannot find rule for <class '__main__.Attention'>. Treat it as zero Macs and zero Params.\u001b[00m\n",
      "\u001b[91m[WARN] Cannot find rule for <class '__main__.CRNN'>. Treat it as zero Macs and zero Params.\u001b[00m\n",
      "Macs - 119.527424M, params - 70.443000K\n",
      "Model size - 0.2687187194824219 Mb\n",
      "Batch time | Elapsed time : 1.19\n"
     ]
    },
    {
     "name": "stderr",
     "output_type": "stream",
     "text": [
      "102it [00:00, 102.30it/s]\n"
     ]
    },
    {
     "name": "stdout",
     "output_type": "stream",
     "text": [
      "AU_FA_FR 1.8851482808763522e-05\n"
     ]
    }
   ],
   "source": [
    "report_model(model, batch, inference_device)"
   ]
  },
  {
   "cell_type": "code",
   "execution_count": null,
   "metadata": {},
   "outputs": [],
   "source": []
  },
  {
   "cell_type": "code",
   "execution_count": 502,
   "metadata": {},
   "outputs": [
    {
     "data": {
      "text/plain": [
       "CRNN(\n",
       "  (conv): Sequential(\n",
       "    (0): Conv2d(1, 2, kernel_size=(5, 20), stride=(2, 6))\n",
       "    (1): Flatten(start_dim=1, end_dim=2)\n",
       "  )\n",
       "  (gru): GRU(36, 16, batch_first=True, dropout=0.1)\n",
       "  (attention): Attention(\n",
       "    (energy): Sequential(\n",
       "      (0): Linear(in_features=16, out_features=16, bias=True)\n",
       "      (1): Tanh()\n",
       "      (2): Linear(in_features=16, out_features=1, bias=True)\n",
       "    )\n",
       "  )\n",
       "  (classifier): Linear(in_features=16, out_features=2, bias=True)\n",
       ")"
      ]
     },
     "execution_count": 502,
     "metadata": {},
     "output_type": "execute_result"
    }
   ],
   "source": [
    "distil_model"
   ]
  },
  {
   "cell_type": "code",
   "execution_count": 503,
   "metadata": {},
   "outputs": [],
   "source": [
    "torch.save({\n",
    "    'model_state_dict': distil_model.state_dict(),\n",
    "}, f'models/best_distil_model.pth')"
   ]
  },
  {
   "cell_type": "code",
   "execution_count": 501,
   "metadata": {
    "cellId": "etu5no7dcye4fxely9zezx"
   },
   "outputs": [
    {
     "name": "stdout",
     "output_type": "stream",
     "text": [
      "Profile Model Base\n",
      "[INFO] Register count_convNd() for <class 'torch.nn.modules.conv.Conv2d'>.\n",
      "\u001b[91m[WARN] Cannot find rule for <class 'torch.nn.modules.flatten.Flatten'>. Treat it as zero Macs and zero Params.\u001b[00m\n",
      "\u001b[91m[WARN] Cannot find rule for <class 'torch.nn.modules.container.Sequential'>. Treat it as zero Macs and zero Params.\u001b[00m\n",
      "[INFO] Register count_gru() for <class 'torch.nn.modules.rnn.GRU'>.\n",
      "[INFO] Register count_linear() for <class 'torch.nn.modules.linear.Linear'>.\n",
      "\u001b[91m[WARN] Cannot find rule for <class 'torch.nn.modules.activation.Tanh'>. Treat it as zero Macs and zero Params.\u001b[00m\n",
      "\u001b[91m[WARN] Cannot find rule for <class '__main__.Attention'>. Treat it as zero Macs and zero Params.\u001b[00m\n",
      "\u001b[91m[WARN] Cannot find rule for <class '__main__.CRNN'>. Treat it as zero Macs and zero Params.\u001b[00m\n",
      "Macs - 11.852800M, params - 3.117000K\n",
      "Model size - 0.011890411376953125 Mb\n"
     ]
    },
    {
     "name": "stderr",
     "output_type": "stream",
     "text": [
      "102it [00:04, 23.31it/s]\n"
     ]
    },
    {
     "name": "stdout",
     "output_type": "stream",
     "text": [
      "AU_FA_FR 3.590076624802828e-05\n"
     ]
    }
   ],
   "source": [
    "#!g1.1\n",
    "report_model(distil_model, batch, inference_device)"
   ]
  },
  {
   "cell_type": "code",
   "execution_count": 473,
   "metadata": {
    "cellId": "ysz4yifuofe4hsxca9ijmq"
   },
   "outputs": [
    {
     "data": {
      "text/plain": [
       "22.772771186440675"
      ]
     },
     "execution_count": 473,
     "metadata": {},
     "output_type": "execute_result"
    }
   ],
   "source": [
    "0.2687187 / 0.0118"
   ]
  },
  {
   "cell_type": "code",
   "execution_count": 472,
   "metadata": {
    "cellId": "gpqa10uypqpwr3hxt9i0co"
   },
   "outputs": [
    {
     "data": {
      "text/plain": [
       "10.084373945325682"
      ]
     },
     "execution_count": 472,
     "metadata": {},
     "output_type": "execute_result"
    }
   ],
   "source": [
    "119.52 / 11.852"
   ]
  },
  {
   "cell_type": "code",
   "execution_count": null,
   "metadata": {},
   "outputs": [],
   "source": []
  },
  {
   "cell_type": "code",
   "execution_count": null,
   "metadata": {},
   "outputs": [],
   "source": []
  },
  {
   "cell_type": "markdown",
   "metadata": {},
   "source": [
    "## Квантизация"
   ]
  },
  {
   "cell_type": "code",
   "execution_count": 493,
   "metadata": {},
   "outputs": [
    {
     "data": {
      "text/plain": [
       "CRNN(\n",
       "  (conv): Sequential(\n",
       "    (0): Conv2d(1, 2, kernel_size=(5, 20), stride=(2, 6))\n",
       "    (1): Flatten(start_dim=1, end_dim=2)\n",
       "  )\n",
       "  (gru): DynamicQuantizedGRU(36, 16, batch_first=True, dropout=0.1)\n",
       "  (attention): Attention(\n",
       "    (energy): Sequential(\n",
       "      (0): DynamicQuantizedLinear(in_features=16, out_features=16, dtype=torch.qint8, qscheme=torch.per_tensor_affine)\n",
       "      (1): Tanh()\n",
       "      (2): DynamicQuantizedLinear(in_features=16, out_features=1, dtype=torch.qint8, qscheme=torch.per_tensor_affine)\n",
       "    )\n",
       "  )\n",
       "  (classifier): DynamicQuantizedLinear(in_features=16, out_features=2, dtype=torch.qint8, qscheme=torch.per_tensor_affine)\n",
       ")"
      ]
     },
     "execution_count": 493,
     "metadata": {},
     "output_type": "execute_result"
    }
   ],
   "source": [
    "import torch.quantization\n",
    "\n",
    "quantizated_model = torch.quantization.quantize_dynamic(distil_model.cpu())\n",
    "\n",
    "quantizated_model"
   ]
  },
  {
   "cell_type": "code",
   "execution_count": 494,
   "metadata": {},
   "outputs": [],
   "source": [
    "quantizated_model = quantizated_model.cpu()"
   ]
  },
  {
   "cell_type": "markdown",
   "metadata": {},
   "source": [
    "Будем считать Macs таким же как и обычной модели, памяти посчитаем по чекпоинту"
   ]
  },
  {
   "cell_type": "code",
   "execution_count": 490,
   "metadata": {},
   "outputs": [
    {
     "name": "stderr",
     "output_type": "stream",
     "text": [
      "102it [00:02, 34.45it/s]\n"
     ]
    },
    {
     "data": {
      "text/plain": [
       "3.9493229891863565e-05"
      ]
     },
     "execution_count": 490,
     "metadata": {},
     "output_type": "execute_result"
    }
   ],
   "source": [
    "validation(\n",
    "    quantizated_model, val_loader,\n",
    "    melspec_inf, 'cpu'\n",
    ")"
   ]
  },
  {
   "cell_type": "code",
   "execution_count": 509,
   "metadata": {},
   "outputs": [
    {
     "data": {
      "text/plain": [
       "0.00077056884765625"
      ]
     },
     "execution_count": 509,
     "metadata": {},
     "output_type": "execute_result"
    }
   ],
   "source": [
    "get_size_in_megabytes(quantizated_model)"
   ]
  },
  {
   "cell_type": "code",
   "execution_count": null,
   "metadata": {},
   "outputs": [],
   "source": []
  },
  {
   "cell_type": "code",
   "execution_count": null,
   "metadata": {},
   "outputs": [],
   "source": []
  },
  {
   "cell_type": "code",
   "execution_count": 558,
   "metadata": {},
   "outputs": [
    {
     "data": {
      "text/plain": [
       "torch.Size([16, 16])"
      ]
     },
     "execution_count": 558,
     "metadata": {},
     "output_type": "execute_result"
    }
   ],
   "source": [
    "quantizated_model.state_dict()['attention.energy.0._packed_params._packed_params'][0].shape"
   ]
  },
  {
   "cell_type": "code",
   "execution_count": null,
   "metadata": {},
   "outputs": [],
   "source": []
  },
  {
   "cell_type": "code",
   "execution_count": null,
   "metadata": {},
   "outputs": [],
   "source": []
  },
  {
   "cell_type": "code",
   "execution_count": 551,
   "metadata": {
    "collapsed": true,
    "jupyter": {
     "outputs_hidden": true
    },
    "tags": []
   },
   "outputs": [
    {
     "data": {
      "text/plain": [
       "tensor([[ 0.0485, -0.5554,  0.1190, -0.0573,  0.0485, -0.2204, -0.3394,  0.0970,\n",
       "         -0.0220,  0.0044, -0.1807,  0.1895,  0.0926,  0.1014,  0.5554, -0.0485],\n",
       "        [ 0.4143, -0.5554,  0.3482, -0.1895, -0.1234,  0.1499,  0.0573, -0.0793,\n",
       "         -0.1719, -0.1411,  0.0176,  0.2997,  0.3835,  0.1014,  0.4628, -0.1411],\n",
       "        [ 0.3394, -0.1587,  0.2380, -0.4452, -0.1851,  0.1278, -0.2821,  0.0573,\n",
       "         -0.1851,  0.1058, -0.0485, -0.0705,  0.1675, -0.3438, -0.3526,  0.1058],\n",
       "        [ 0.1190,  0.2777, -0.1587,  0.4276,  0.1719, -0.1675, -0.1455,  0.1543,\n",
       "          0.1763,  0.0617, -0.1763,  0.0926, -0.5245, -0.0749, -0.4188,  0.1807],\n",
       "        [ 0.0264,  0.4320, -0.3350,  0.1807, -0.1411,  0.1234,  0.1895, -0.2689,\n",
       "          0.1631, -0.0353,  0.0000, -0.0441, -0.0353, -0.0882, -0.3659,  0.2468],\n",
       "        [ 0.4628,  0.0088,  0.2072, -0.4099, -0.4276,  0.2645, -0.2821,  0.2292,\n",
       "          0.0132,  0.2953, -0.2160, -0.2821, -0.0926,  0.0264, -0.4849,  0.5598],\n",
       "        [-0.1366,  0.2909, -0.0970,  0.4011,  0.2909, -0.2557, -0.1939,  0.1366,\n",
       "          0.1719,  0.1939, -0.2116,  0.0882, -0.4496, -0.0088, -0.4628,  0.2513],\n",
       "        [ 0.1190, -0.3394,  0.0749, -0.3747,  0.0176, -0.0573, -0.1939, -0.2601,\n",
       "          0.0176, -0.1014, -0.0264, -0.1499,  0.5245, -0.0617,  0.0882, -0.1499],\n",
       "        [ 0.4188, -0.1190, -0.0617, -0.2380,  0.0309,  0.3086, -0.3570,  0.2336,\n",
       "         -0.0132,  0.2028, -0.2997, -0.1851,  0.1278,  0.1234, -0.2336,  0.3659],\n",
       "        [ 0.2909, -0.0882,  0.2733,  0.0838, -0.2601, -0.1411, -0.1807, -0.2953,\n",
       "         -0.3174,  0.1807,  0.0176,  0.3041,  0.0705,  0.0661,  0.1807, -0.1675],\n",
       "        [-0.0132, -0.4717,  0.2424, -0.3526,  0.1014, -0.1455, -0.0661, -0.2777,\n",
       "         -0.3130, -0.1146, -0.2248, -0.1763,  0.4276, -0.1631,  0.1939,  0.1631],\n",
       "        [-0.2645,  0.3967,  0.1719,  0.3218,  0.2292,  0.1366,  0.2204,  0.2689,\n",
       "          0.1719, -0.0970,  0.0397, -0.2513, -0.1190,  0.3526, -0.2953, -0.1807],\n",
       "        [ 0.0088,  0.2865, -0.1058,  0.2072,  0.1851,  0.0882, -0.1939, -0.1366,\n",
       "         -0.0176, -0.1102, -0.1278, -0.0397, -0.4011, -0.1763, -0.2380,  0.3130],\n",
       "        [ 0.4672, -0.2424, -0.0749, -0.2689,  0.1499, -0.0838, -0.2380, -0.0044,\n",
       "         -0.3350,  0.2997,  0.1543,  0.2468,  0.2777,  0.1146,  0.0000,  0.0132],\n",
       "        [ 0.0882,  0.2557, -0.0441,  0.0309,  0.1058, -0.0176,  0.0176,  0.2689,\n",
       "         -0.1366, -0.1146,  0.1984, -0.0309, -0.2601,  0.2645, -0.2953, -0.0529],\n",
       "        [ 0.1675, -0.4055,  0.1499, -0.1366,  0.0705,  0.1322,  0.0970, -0.0441,\n",
       "         -0.3570,  0.2248, -0.0132, -0.0176,  0.0926,  0.0044,  0.1278,  0.0926]],\n",
       "       size=(16, 16), dtype=torch.qint8,\n",
       "       quantization_scheme=torch.per_tensor_affine, scale=0.004407947883009911,\n",
       "       zero_point=0)"
      ]
     },
     "execution_count": 551,
     "metadata": {},
     "output_type": "execute_result"
    }
   ],
   "source": [
    "quantizated_model.attention.energy[0].weight()"
   ]
  },
  {
   "cell_type": "code",
   "execution_count": null,
   "metadata": {},
   "outputs": [],
   "source": []
  },
  {
   "cell_type": "markdown",
   "metadata": {},
   "source": [
    "### Мерим память по честному"
   ]
  },
  {
   "cell_type": "code",
   "execution_count": 520,
   "metadata": {},
   "outputs": [],
   "source": [
    "import os\n",
    "\n",
    "def print_size_of_model(model, label=\"\"):\n",
    "    torch.save(model.state_dict(), \"temp.p\")\n",
    "    size=os.path.getsize(\"temp.p\")\n",
    "    print(\"model: \",label,' \\t','Size (KB):', size/1e3)\n",
    "    os.remove('temp.p')\n",
    "    return size\n"
   ]
  },
  {
   "cell_type": "code",
   "execution_count": null,
   "metadata": {},
   "outputs": [],
   "source": []
  },
  {
   "cell_type": "code",
   "execution_count": 533,
   "metadata": {},
   "outputs": [
    {
     "name": "stdout",
     "output_type": "stream",
     "text": [
      "model:    \t Size (KB): 288.87\n"
     ]
    }
   ],
   "source": [
    "model_size = print_size_of_model(model)"
   ]
  },
  {
   "cell_type": "code",
   "execution_count": 552,
   "metadata": {},
   "outputs": [
    {
     "name": "stdout",
     "output_type": "stream",
     "text": [
      "model:    \t Size (KB): 19.549\n"
     ]
    }
   ],
   "source": [
    "distil_model_size = print_size_of_model(distil_model)"
   ]
  },
  {
   "cell_type": "code",
   "execution_count": 553,
   "metadata": {},
   "outputs": [
    {
     "name": "stdout",
     "output_type": "stream",
     "text": [
      "model:    \t Size (KB): 13.579\n"
     ]
    }
   ],
   "source": [
    "quant_model_size = print_size_of_model(quantizated_model)"
   ]
  },
  {
   "cell_type": "code",
   "execution_count": null,
   "metadata": {},
   "outputs": [],
   "source": []
  },
  {
   "cell_type": "code",
   "execution_count": 566,
   "metadata": {},
   "outputs": [
    {
     "name": "stdout",
     "output_type": "stream",
     "text": [
      "model:    \t Size (KB): 2.015\n"
     ]
    },
    {
     "data": {
      "text/plain": [
       "2015"
      ]
     },
     "execution_count": 566,
     "metadata": {},
     "output_type": "execute_result"
    }
   ],
   "source": [
    "print_size_of_model(quantizated_model.attention.energy[0])"
   ]
  },
  {
   "cell_type": "code",
   "execution_count": null,
   "metadata": {},
   "outputs": [],
   "source": []
  },
  {
   "cell_type": "code",
   "execution_count": 537,
   "metadata": {},
   "outputs": [
    {
     "data": {
      "text/plain": [
       "(14.776714921479359, 21.273289638412255)"
      ]
     },
     "execution_count": 537,
     "metadata": {},
     "output_type": "execute_result"
    }
   ],
   "source": [
    "model_size / distil_model_size, model_size / quant_model_size"
   ]
  },
  {
   "cell_type": "code",
   "execution_count": null,
   "metadata": {},
   "outputs": [],
   "source": []
  },
  {
   "cell_type": "code",
   "execution_count": null,
   "metadata": {},
   "outputs": [],
   "source": []
  },
  {
   "cell_type": "code",
   "execution_count": null,
   "metadata": {},
   "outputs": [],
   "source": []
  },
  {
   "cell_type": "code",
   "execution_count": null,
   "metadata": {},
   "outputs": [],
   "source": []
  }
 ],
 "metadata": {
  "kernelspec": {
   "display_name": "Python 3 (ipykernel)",
   "language": "python",
   "name": "python3"
  },
  "language_info": {
   "codemirror_mode": {
    "name": "ipython",
    "version": 3
   },
   "file_extension": ".py",
   "mimetype": "text/x-python",
   "name": "python",
   "nbconvert_exporter": "python",
   "pygments_lexer": "ipython3",
   "version": "3.7.11"
  },
  "notebookId": "42a0f5dc-5a24-4a87-9f4b-51e91386449e",
  "notebookPath": "seminar.ipynb",
  "ydsNotebookPath": "seminar.ipynb"
 },
 "nbformat": 4,
 "nbformat_minor": 4
}
